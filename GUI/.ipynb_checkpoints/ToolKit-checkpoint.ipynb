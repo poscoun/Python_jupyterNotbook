{
 "cells": [
  {
   "cell_type": "markdown",
   "id": "bd778743",
   "metadata": {},
   "source": [
    "# 파이선 GUI 프로그래밍을 위한 프레임워크(Toolkit)"
   ]
  },
  {
   "cell_type": "code",
   "execution_count": null,
   "id": "8362253b",
   "metadata": {},
   "outputs": [],
   "source": [
    "'''\n",
    "# 파이선에서 기본적으로 제공되는 표준 라이브러리\n",
    " > Tkinter(Tk interface)\n",
    "  - Tcl(Tool Command Language)\n",
    "  - Tk (크로스 플랫폼에 쓰이는 GUI 툴킷)\n",
    "  - Tcl/Tk를 파이썬에서 사용할 수 있도록 한 LightWeight GUI 모듈\n",
    " \n",
    " > PyQt\n",
    "  : 파이썬에서 Qt(The Qt Company) 프레임워크를 사용하도록 한 툴킷\n",
    "    (주의 - 오픈소스이지만 상업용으로 사용할 경우 라이선스 구매해야 함)\n",
    " > Pyside\n",
    " > PyGTK\n",
    " \n",
    "# 자주 사용하는 라이브러리 : wxPython 라이브러리\n",
    " \n",
    "'''"
   ]
  },
  {
   "cell_type": "code",
   "execution_count": 9,
   "id": "176b7cd0",
   "metadata": {},
   "outputs": [
    {
     "ename": "ModuleNotFoundError",
     "evalue": "No module named 'tkiter'",
     "output_type": "error",
     "traceback": [
      "\u001b[1;31m---------------------------------------------------------------------------\u001b[0m",
      "\u001b[1;31mModuleNotFoundError\u001b[0m                       Traceback (most recent call last)",
      "\u001b[1;32m<ipython-input-9-b66284e04c7c>\u001b[0m in \u001b[0;36m<module>\u001b[1;34m\u001b[0m\n\u001b[1;32m----> 1\u001b[1;33m \u001b[1;32mimport\u001b[0m \u001b[0mtkiter\u001b[0m \u001b[1;32mas\u001b[0m \u001b[0mtk\u001b[0m\u001b[1;33m\u001b[0m\u001b[1;33m\u001b[0m\u001b[0m\n\u001b[0m",
      "\u001b[1;31mModuleNotFoundError\u001b[0m: No module named 'tkiter'"
     ]
    }
   ],
   "source": [
    "import tkiter as tk"
   ]
  },
  {
   "cell_type": "code",
   "execution_count": null,
   "id": "f8cb6cc2",
   "metadata": {},
   "outputs": [],
   "source": []
  },
  {
   "cell_type": "code",
   "execution_count": null,
   "id": "71e24671",
   "metadata": {},
   "outputs": [],
   "source": []
  },
  {
   "cell_type": "code",
   "execution_count": null,
   "id": "7b066c93",
   "metadata": {},
   "outputs": [],
   "source": []
  },
  {
   "cell_type": "code",
   "execution_count": null,
   "id": "b0bcf0f9",
   "metadata": {},
   "outputs": [],
   "source": []
  },
  {
   "cell_type": "code",
   "execution_count": null,
   "id": "4b668d5b",
   "metadata": {},
   "outputs": [],
   "source": []
  },
  {
   "cell_type": "code",
   "execution_count": null,
   "id": "ed15c822",
   "metadata": {},
   "outputs": [],
   "source": []
  }
 ],
 "metadata": {
  "kernelspec": {
   "display_name": "Python 3",
   "language": "python",
   "name": "python3"
  },
  "language_info": {
   "codemirror_mode": {
    "name": "ipython",
    "version": 3
   },
   "file_extension": ".py",
   "mimetype": "text/x-python",
   "name": "python",
   "nbconvert_exporter": "python",
   "pygments_lexer": "ipython3",
   "version": "3.8.8"
  }
 },
 "nbformat": 4,
 "nbformat_minor": 5
}
