{
 "cells": [
  {
   "cell_type": "markdown",
   "id": "17dfb0a7",
   "metadata": {},
   "source": [
    "# thread (비동기 프로그래밍)"
   ]
  },
  {
   "cell_type": "code",
   "execution_count": null,
   "id": "fdd934d7",
   "metadata": {},
   "outputs": [],
   "source": [
    "'''\n",
    "# 비동기 프로그래밍 : 서로 간섭 없이 독립적으로 작업을 진행할 수 있도록 하는 프로그래밍 기법\n",
    "#                  : 이를 위해 파이썬은 Thread를 지원\n",
    "# 파이썬이 지원하는 쓰레드 사용 모듈 : _thread, threading\n",
    "'''"
   ]
  },
  {
   "cell_type": "markdown",
   "id": "85e98c96",
   "metadata": {},
   "source": [
    "## _thread"
   ]
  },
  {
   "cell_type": "code",
   "execution_count": 16,
   "id": "d76090fb",
   "metadata": {},
   "outputs": [],
   "source": [
    "import _thread\n",
    "import time\n",
    "import random"
   ]
  },
  {
   "cell_type": "code",
   "execution_count": 17,
   "id": "c9287d9d",
   "metadata": {},
   "outputs": [],
   "source": [
    "def threadFunc(str):\n",
    "    cnt = 0\n",
    "    while(cnt < 10):\n",
    "        time.sleep(random.randint(0, 100)/100.0)\n",
    "        print(str, cnt)\n",
    "        cnt += 1"
   ]
  },
  {
   "cell_type": "code",
   "execution_count": 18,
   "id": "c6a6989b",
   "metadata": {},
   "outputs": [
    {
     "data": {
      "text/plain": [
       "9772"
      ]
     },
     "execution_count": 18,
     "metadata": {},
     "output_type": "execute_result"
    },
    {
     "name": "stdout",
     "output_type": "stream",
     "text": [
      "유관순 0\n",
      "유관순 1\n",
      "홍길동 0\n",
      "홍길동 1\n",
      "유관순 2\n",
      "유관순 3\n",
      "유관순 4\n",
      "유관순 5\n",
      "홍길동 2\n",
      "홍길동 3\n",
      "홍길동 4\n",
      "유관순 6\n",
      "유관순 7\n",
      "유관순 8\n",
      "홍길동 5\n",
      "유관순 9\n",
      "홍길동 6\n",
      "홍길동 7\n",
      "홍길동 8\n",
      "홍길동 9\n"
     ]
    }
   ],
   "source": [
    "# _thread.start_new_thread(스레드 진입점, (스레드 진입점에 전달할 인자))\n",
    "\n",
    "_thread.start_new_thread(threadFunc, ('홍길동',))\n",
    "_thread.start_new_thread(threadFunc, ('유관순',))"
   ]
  },
  {
   "cell_type": "code",
   "execution_count": null,
   "id": "940afe59",
   "metadata": {},
   "outputs": [],
   "source": [
    "'''\n",
    "# threading.Thread() 객체를 호출\n",
    "# Thread(target=쓰레드진입점, args=전달할 인자(튜플 형태))\n",
    "                           , kwargs=전달한 인자({딕셔너리 형태})\n",
    "                           \n",
    "# 쓰레드 동작 : start()\n",
    "# 쓰레드 대기 : join()\n",
    "'''"
   ]
  },
  {
   "cell_type": "code",
   "execution_count": 28,
   "id": "19cc0613",
   "metadata": {},
   "outputs": [],
   "source": [
    "import threading\n",
    "import time\n",
    "import random"
   ]
  },
  {
   "cell_type": "code",
   "execution_count": 29,
   "id": "c04ceb25",
   "metadata": {},
   "outputs": [],
   "source": [
    "def threadFunction(str):\n",
    "    cnt = 0\n",
    "    while(cnt < 10):\n",
    "        time.sleep(random.randint(0, 100)/100.0)\n",
    "        print(str, cnt)\n",
    "        cnt += 1"
   ]
  },
  {
   "cell_type": "code",
   "execution_count": 30,
   "id": "23e6e89b",
   "metadata": {},
   "outputs": [],
   "source": [
    "thread1 = threading.Thread(target=threadFunction, args=('신사임당',))\n",
    "thread2 = threading.Thread(target=threadFunction, args=('이순신',))"
   ]
  },
  {
   "cell_type": "code",
   "execution_count": 31,
   "id": "7f9c1af9",
   "metadata": {},
   "outputs": [
    {
     "name": "stdout",
     "output_type": "stream",
     "text": [
      "이순신 0\n",
      "이순신 1\n",
      "이순신 2\n",
      "신사임당 0\n",
      "신사임당 1\n",
      "이순신 3\n",
      "신사임당 2\n",
      "이순신 4\n",
      "이순신 5\n",
      "신사임당 3\n",
      "이순신 6\n",
      "이순신 7\n",
      "신사임당 4\n",
      "신사임당 5\n",
      "이순신 8\n",
      "신사임당 6\n",
      "이순신 9\n",
      "신사임당 7\n",
      "신사임당 8\n",
      "신사임당 9\n"
     ]
    }
   ],
   "source": [
    "thread1.start()\n",
    "thread2.start()\n",
    "\n",
    "thread1.join()\n",
    "thread2.join()"
   ]
  },
  {
   "cell_type": "code",
   "execution_count": 39,
   "id": "5dc44a94",
   "metadata": {},
   "outputs": [],
   "source": [
    "import threading\n",
    "import requests\n",
    "import time"
   ]
  },
  {
   "cell_type": "code",
   "execution_count": 40,
   "id": "6c771add",
   "metadata": {},
   "outputs": [],
   "source": [
    "def getUrlText(url):\n",
    "    res = requests.get(url)\n",
    "    time.sleep(1)\n",
    "    print(url, len(res.text), ' 문자 정보')"
   ]
  },
  {
   "cell_type": "code",
   "execution_count": 41,
   "id": "3dbb7759",
   "metadata": {},
   "outputs": [
    {
     "name": "stdout",
     "output_type": "stream",
     "text": [
      "1\n",
      "2\n",
      "3\n",
      "4\n",
      "5\n",
      "6\n",
      "7\n",
      "8\n",
      "9\n",
      "10\n",
      "http://example.com/ 1256  문자 정보\n"
     ]
    }
   ],
   "source": [
    "td = threading.Thread(target=getUrlText, args=('http://example.com/',))\n",
    "td.start()\n",
    "\n",
    "for i in range(1, 11):\n",
    "    print(i)"
   ]
  },
  {
   "cell_type": "code",
   "execution_count": null,
   "id": "e9a6a82f",
   "metadata": {},
   "outputs": [],
   "source": []
  },
  {
   "cell_type": "code",
   "execution_count": null,
   "id": "760586c2",
   "metadata": {},
   "outputs": [],
   "source": []
  },
  {
   "cell_type": "code",
   "execution_count": null,
   "id": "3324e250",
   "metadata": {},
   "outputs": [],
   "source": []
  }
 ],
 "metadata": {
  "kernelspec": {
   "display_name": "Python 3",
   "language": "python",
   "name": "python3"
  },
  "language_info": {
   "codemirror_mode": {
    "name": "ipython",
    "version": 3
   },
   "file_extension": ".py",
   "mimetype": "text/x-python",
   "name": "python",
   "nbconvert_exporter": "python",
   "pygments_lexer": "ipython3",
   "version": "3.8.8"
  }
 },
 "nbformat": 4,
 "nbformat_minor": 5
}
