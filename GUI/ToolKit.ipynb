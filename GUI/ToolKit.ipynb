{
 "cells": [
  {
   "cell_type": "markdown",
   "id": "2f0940ee",
   "metadata": {},
   "source": [
    "# 파이선 GUI 프로그래밍을 위한 프레임워크 (Toolkit)"
   ]
  },
  {
   "cell_type": "code",
   "execution_count": null,
   "id": "997babaf",
   "metadata": {},
   "outputs": [],
   "source": [
    "'''\n",
    "# 파이선에서 기본적으로 제공되는 표준 라이브러리\n",
    " > Tkinter(Tk interface)\n",
    "  - Tcl(Tool Command Language)\n",
    "  - Tk (크로스 플랫폼에 쓰이는 GUI 툴킷)\n",
    "  - Tcl/Tk를 파이선에서 사용할 수 있도록 한 LightWeight GUI 모듈\n",
    "  \n",
    " > PyQt\n",
    "  : 파이썬에서 Qt(The Qt Company) 프레임워크를 사용하도록 한 툴킷\n",
    "    (주의 - 오픈소스이지만 상업용으로 사용할 경우 라이선스 구매해야 함)\n",
    " > Pyside\n",
    " > PyGTK\n",
    " \n",
    "# 자주 사용하는 라이브러리 : wxPython 라이브러리\n",
    "'''"
   ]
  },
  {
   "cell_type": "code",
   "execution_count": 8,
   "id": "ae8c79ca",
   "metadata": {},
   "outputs": [],
   "source": [
    "import tkinter as tk"
   ]
  },
  {
   "cell_type": "code",
   "execution_count": 20,
   "id": "9d606cc7",
   "metadata": {},
   "outputs": [],
   "source": [
    "win = tk.Tk() # Tk 클래스를 통해 윈도우 창 생성\n",
    "\n",
    "# 윈도우 창 타이틀\n",
    "win.title('처음 만들어본 GUI')\n",
    "\n",
    "# resizable (width/height) 크기 조정 가능 여부 : True = 1, False = 0\n",
    "win.resizable(1, 0)\n",
    "\n",
    "# GUI 시작 (이벤트 루프를 생성)\n",
    "win.mainloop()"
   ]
  },
  {
   "cell_type": "markdown",
   "id": "ec8d8b05",
   "metadata": {},
   "source": [
    "## 1) 주요 위젯\n",
    "라벨, 버튼 위젯"
   ]
  },
  {
   "cell_type": "code",
   "execution_count": 22,
   "id": "f6f0b3a5",
   "metadata": {},
   "outputs": [],
   "source": [
    "import tkinter as tk\n",
    " \n",
    "# tkinter 서브모듈 : ttk(themed tk) - 개선된 GUI를 제공하는 모듈\n",
    "from tkinter import ttk"
   ]
  },
  {
   "cell_type": "code",
   "execution_count": 24,
   "id": "3c2ba716",
   "metadata": {},
   "outputs": [
    {
     "data": {
      "text/plain": [
       "'\\n# tkinter 패키지는 위젯 없을 때는 기본 크기를 사용\\n# 위젯을 추가할 경우 일반적으로 위젯을 표시하는데 필요한 만큼의 공간을 사용하도록 최적화\\n'"
      ]
     },
     "execution_count": 24,
     "metadata": {},
     "output_type": "execute_result"
    }
   ],
   "source": [
    "win = tk.Tk()\n",
    "\n",
    "win.title('라벨ex')\n",
    "\n",
    "# 라벨 위젯 : Label(윈도우명, text='내용')\n",
    "label = ttk.Label(win, text = '처음 만들어본 라벨')\n",
    "\n",
    "# 라벨 부착\n",
    "label.pack()\n",
    "\n",
    "win.mainloop()\n",
    "\n",
    "'''\n",
    "# tkinter 패키지는 위젯 없을 때는 기본 크기를 사용\n",
    "# 위젯을 추가할 경우 일반적으로 위젯을 표시하는데 필요한 만큼의 공간을 사용하도록 최적화\n",
    "'''"
   ]
  },
  {
   "cell_type": "markdown",
   "id": "e47a8b35",
   "metadata": {},
   "source": [
    "윈도우 창 크기 설정"
   ]
  },
  {
   "cell_type": "code",
   "execution_count": 32,
   "id": "06b1da28",
   "metadata": {},
   "outputs": [],
   "source": [
    "win = tk.Tk()\n",
    "\n",
    "win.title('window size setting')\n",
    "\n",
    "# 윈도우창 크기 설정 : geometry('너비x높이+x좌표+y좌표')\n",
    "win.geometry('640x480+100+100')\n",
    "\n",
    "label = ttk.Label(win, text='Hi tkinter world - wow wow wow wow wow wow wow wow')\n",
    "\n",
    "label.pack()\n",
    "\n",
    "win.mainloop()"
   ]
  },
  {
   "cell_type": "markdown",
   "id": "566e5808",
   "metadata": {},
   "source": [
    "## 2) 버튼 위젯"
   ]
  },
  {
   "cell_type": "code",
   "execution_count": 34,
   "id": "58c11699",
   "metadata": {},
   "outputs": [],
   "source": [
    "win = tk.Tk()\n",
    "\n",
    "win.title('button ex')\n",
    "\n",
    "# 윈도우창 크기 설정 : geometry('너비x높이+x좌표+y좌표')\n",
    "win.geometry('640x480+100+100')\n",
    "\n",
    "label = ttk.Label(win, text='Hi tkinter world - wow wow wow wow wow wow wow wow')\n",
    "\n",
    "label.pack()\n",
    "\n",
    "# 버튼 : ttk.Button(윈도우명, text='내용')\n",
    "button = ttk.Button(win, text=\"click\")\n",
    "\n",
    "button.pack()\n",
    "\n",
    "win.mainloop()"
   ]
  },
  {
   "cell_type": "code",
   "execution_count": 43,
   "id": "1b6266f5",
   "metadata": {},
   "outputs": [],
   "source": [
    "# 위젯 배치 순서에 따라 윈도우 창에서의 순서가 결정됨\n",
    "\n",
    "win = tk.Tk()\n",
    "\n",
    "win.title('button ex')\n",
    "\n",
    "# 윈도우창 크기 설정 : geometry('너비x높이+x좌표+y좌표')\n",
    "win.geometry('640x480+100+100')\n",
    "\n",
    "# 버튼 : ttk.Button(윈도우명, text='내용')\n",
    "button = ttk.Button(win, text=\"click\")\n",
    "\n",
    "button.pack()\n",
    "\n",
    "label = ttk.Label(win, text='Hi tkinter world - wow wow wow wow wow wow wow wow')\n",
    "\n",
    "label.pack()\n",
    "\n",
    "win.mainloop()"
   ]
  },
  {
   "cell_type": "markdown",
   "id": "49f15472",
   "metadata": {},
   "source": [
    "### cf) tk를 이용한 위젯"
   ]
  },
  {
   "cell_type": "code",
   "execution_count": 38,
   "id": "3be4d361",
   "metadata": {},
   "outputs": [],
   "source": [
    "win = tk.Tk()\n",
    "\n",
    "win.title('tk ex')\n",
    "\n",
    "# 윈도우창 크기 설정 : geometry('너비x높이+x좌표+y좌표')\n",
    "win.geometry('640x480+100+100')\n",
    "\n",
    "label = ttk.Label(win, text='Hi tkinter world - wow wow wow wow wow wow wow wow')\n",
    "\n",
    "label.pack()\n",
    "\n",
    "# 버튼 : ttk.Button(윈도우명, text='내용')\n",
    "button = ttk.Button(win, text=\"click\")\n",
    "\n",
    "button.pack()\n",
    "\n",
    "win.mainloop()"
   ]
  },
  {
   "cell_type": "markdown",
   "id": "a092e442",
   "metadata": {},
   "source": [
    "### Grid"
   ]
  },
  {
   "cell_type": "code",
   "execution_count": 47,
   "id": "2562d2d2",
   "metadata": {},
   "outputs": [],
   "source": [
    "win = tk.Tk()\n",
    "\n",
    "win.title('button ex')\n",
    "\n",
    "# 윈도우창 크기 설정 : geometry('너비x높이+x좌표+y좌표')\n",
    "win.geometry('640x480+100+100')\n",
    "\n",
    "label = ttk.Label(win, text='Hi tkinter world')\n",
    "\n",
    "# grid를 통해 배치\n",
    "label.grid(column=1, row=0)\n",
    "\n",
    "# 버튼 : ttk.Button(윈도우명, text='내용')\n",
    "button = ttk.Button(win, text=\"click\")\n",
    "\n",
    "button.grid(column=0, row=0)\n",
    "\n",
    "win.mainloop()"
   ]
  },
  {
   "cell_type": "markdown",
   "id": "b514f453",
   "metadata": {},
   "source": [
    "## 이벤트 처리"
   ]
  },
  {
   "cell_type": "code",
   "execution_count": 51,
   "id": "9580f7f0",
   "metadata": {},
   "outputs": [],
   "source": [
    "win = tk.Tk()\n",
    "\n",
    "win.title('button ex')\n",
    "\n",
    "# 윈도우창 크기 설정 : geometry('너비x높이+x좌표+y좌표')\n",
    "win.geometry('640x480+100+100')\n",
    "\n",
    "# clickEvent\n",
    "def clickMe():\n",
    "    label.configure(text='button click')\n",
    "    button.configure(text='wow')\n",
    "    label.configure(foreground='blue', background='yellow')\n",
    "    \n",
    "label = ttk.Label(win, text='Hi tkinter world')\n",
    "\n",
    "# grid를 통해 배치\n",
    "label.grid(column=0, row=1)\n",
    "\n",
    "# 버튼 : ttk.Button(윈도우명, text='내용')\n",
    "button = ttk.Button(win, text='click', command=clickMe)\n",
    "\n",
    "button.grid(column=0, row=0)\n",
    "\n",
    "win.mainloop()"
   ]
  },
  {
   "cell_type": "markdown",
   "id": "9903b4ce",
   "metadata": {},
   "source": [
    "## 3) Entry 위젯 : 단순한 라인 텍스트 박스"
   ]
  },
  {
   "cell_type": "code",
   "execution_count": 67,
   "id": "0cc8cbc0",
   "metadata": {},
   "outputs": [],
   "source": [
    "win = tk.Tk()\n",
    "\n",
    "win.title('Entry Ex')\n",
    "\n",
    "win.geometry('320x240+200+200')\n",
    "\n",
    "def inputId():\n",
    "    label2.config(text='환영합니다 ' + id.get() + ' 님')\n",
    "    button1.config(state='disabled')\n",
    "    id.set('탈퇴는 안 돼요')\n",
    "    \n",
    "label1 = ttk.Label(win, text='아이디')\n",
    "label1.grid(column=0, row=0)\n",
    "\n",
    "'''\n",
    "# entry 위젯 parameter \n",
    " - show   ex) (None | '*')\n",
    " - textVariable : 입력박스(텍스트 박스)에 작성할 문자열을 가져올 변수\n",
    " - justify : 입력박스의 문자열이 여러 줄일 경우 정렬 방법 (left, right, center - default는 center)\n",
    "\n",
    "# 파이썬은 동적 타입 언어 (할당된 데이터를 바탕으로 타입을 유추)\n",
    "  예를 들어 name 변수에 문자열을 할당하면 str 타입이 됨 (name='hong')\n",
    "            age 변수에 정수를 할당하면 integer 타입이 됨 (age=20)\n",
    "\n",
    "# ttk는 파이썬이 아닌 다른 언어로 되어 있는 모듈임. 단지 파이썬에서 사용할 수 있을 뿐.\n",
    "  그러므로 파이썬처럼 동적으로 타입을 유추하는 모듈이 아님.\n",
    "  타입 지정이 필요한 언어임에 유의\n",
    "'''\n",
    "\n",
    "id = tk.StringVar()\n",
    "\n",
    "entry1 = ttk.Entry(win, textvariable=id)\n",
    "entry1.grid(column=1, row=0)\n",
    "\n",
    "button1 = ttk.Button(win, text='insert', command=inputId, width=20)\n",
    "button1.grid(column=2, row=0)\n",
    "\n",
    "label2 = ttk.Label(win, text='')\n",
    "label2.grid(column=1, row=1)\n",
    "\n",
    "win.mainloop()"
   ]
  },
  {
   "cell_type": "code",
   "execution_count": null,
   "id": "b2d94a4b",
   "metadata": {},
   "outputs": [],
   "source": []
  },
  {
   "cell_type": "code",
   "execution_count": null,
   "id": "9ada2bbc",
   "metadata": {},
   "outputs": [],
   "source": []
  }
 ],
 "metadata": {
  "kernelspec": {
   "display_name": "Python 3",
   "language": "python",
   "name": "python3"
  },
  "language_info": {
   "codemirror_mode": {
    "name": "ipython",
    "version": 3
   },
   "file_extension": ".py",
   "mimetype": "text/x-python",
   "name": "python",
   "nbconvert_exporter": "python",
   "pygments_lexer": "ipython3",
   "version": "3.8.8"
  }
 },
 "nbformat": 4,
 "nbformat_minor": 5
}
