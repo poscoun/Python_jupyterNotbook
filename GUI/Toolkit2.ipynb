{
 "cells": [
  {
   "cell_type": "markdown",
   "id": "e946bb12",
   "metadata": {},
   "source": [
    "## 위젯 파라미터 (tkinter 기준)"
   ]
  },
  {
   "cell_type": "code",
   "execution_count": 2,
   "id": "06b6640d",
   "metadata": {},
   "outputs": [
    {
     "data": {
      "text/plain": [
       "'\\n# 문자열 설정 파라미터\\n - text : 표시할 문자열\\n - textvariable : 표시한 문자열을 가져올 변수\\n - anchor : 위젯의 문자열 또는 이미지 위치 지정(default : center)\\n - justify : 문자열이 여러줄일 경우 정렬 방법 (default : center)\\n - wraplength : 자동 줄 내림 설정 - 너비 (기본값 : 0)\\n \\n# 모양 설정 파라미터\\n - width : 너비\\n - height : 높이\\n - relief : 테두리 모양 (default : flat)\\n - overrelief : 마우스가 오버되었을 때 테두리 모양 (default : raised)\\n   -- relief option (flat, groove, ridge, solid, sunken, raised)\\n - background (a.k.a bg) : 백그라운드 색상을 지정 \\n - foreground (a.k.a fg) : 문자열의 색상\\n - selectcolor : 선택된 위젯의 배경 색\\n - padx(가로 안쪽 여백), pady(세로 안쪽 여백)\\n \\n# 상태 설정 파라미터\\n - state : 상태 설정 (defalut : normal) -> (normal, active, disabled)\\n - command : active 상태일 때 실행하는 메소드(함수)를 지정\\n - variable : 동작 상태를 저장할 제어 변수 (ex.tkinter.StringVar(), tkinter.IntVar())\\n - onvalue : active 상태일 때 연결된 제어변수의 값 (default : True)\\n - offvalue : 해제 상태일 때 연결된 제어변수의 값 (default : False)\\n \\n'"
      ]
     },
     "execution_count": 2,
     "metadata": {},
     "output_type": "execute_result"
    }
   ],
   "source": [
    "'''\n",
    "# 문자열 설정 파라미터\n",
    " - text : 표시할 문자열\n",
    " - textvariable : 표시한 문자열을 가져올 변수\n",
    " - anchor : 위젯의 문자열 또는 이미지 위치 지정(default : center)\n",
    " - justify : 문자열이 여러줄일 경우 정렬 방법 (default : center)\n",
    " - wraplength : 자동 줄 내림 설정 - 너비 (기본값 : 0)\n",
    " \n",
    "# 모양 설정 파라미터\n",
    " - width : 너비\n",
    " - height : 높이\n",
    " - relief : 테두리 모양 (default : flat)\n",
    " - overrelief : 마우스가 오버되었을 때 테두리 모양 (default : raised)\n",
    "   -- relief option (flat, groove, ridge, solid, sunken, raised)\n",
    " - background (a.k.a bg) : 백그라운드 색상을 지정 \n",
    " - foreground (a.k.a fg) : 문자열의 색상\n",
    " - selectcolor : 선택된 위젯의 배경 색\n",
    " - padx(가로 안쪽 여백), pady(세로 안쪽 여백)\n",
    " \n",
    "# 상태 설정 파라미터\n",
    " - state : 상태 설정 (defalut : normal) -> (normal, active, disabled)\n",
    " - command : active 상태일 때 실행하는 메소드(함수)를 지정\n",
    " - variable : 동작 상태를 저장할 제어 변수 (ex.tkinter.StringVar(), tkinter.IntVar())\n",
    " - onvalue : active 상태일 때 연결된 제어변수의 값 (default : True)\n",
    " - offvalue : 해제 상태일 때 연결된 제어변수의 값 (default : False)\n",
    " \n",
    "'''"
   ]
  },
  {
   "cell_type": "markdown",
   "id": "5d5b0966",
   "metadata": {},
   "source": [
    "### 4)CheckButton 위젯"
   ]
  },
  {
   "cell_type": "code",
   "execution_count": 6,
   "id": "ae7d9702",
   "metadata": {},
   "outputs": [],
   "source": [
    "import tkinter as tk\n",
    "from tkinter import ttk"
   ]
  },
  {
   "cell_type": "code",
   "execution_count": null,
   "id": "c18abce0",
   "metadata": {},
   "outputs": [],
   "source": [
    "'''\n",
    "# 체크버튼의 메소드\n",
    " - select() : 체크 상태\n",
    " - deselect() : 해제 상태\n",
    " - toggle() : 토글(체크일 경우 해제되고, 해제일 경우 체크됨)\n",
    " - invoke() : 체크버튼 실행\n",
    " - flash() : 깜빡거림\n",
    " \n",
    "# 체크버튼의 형식 설정\n",
    " - bitmap : 체크버튼에 포함할 기본 이미지\n",
    " - image : 체크버튼에 포함할 임의 이미지\n",
    " - selectimage : 체크버튼이 체크 상태일 때 표시할 임의 이미지\n",
    " - compound : 체크버튼에 문자열과 이미지를 동시에 표시할 때 이미지의 위치 (defalut : none)\n",
    "            : buttom, center, left, right, top\n",
    " - font : 체크버튼의 문자열 글꼴 설정\n",
    " - cursor : 체크버튼 마우스 커서 모양\n",
    "'''"
   ]
  },
  {
   "cell_type": "code",
   "execution_count": 28,
   "id": "ce489658",
   "metadata": {},
   "outputs": [],
   "source": [
    "win = tk.Tk()\n",
    "\n",
    "win.title('check button ex')\n",
    "win.geometry('640x480+200+200')\n",
    "\n",
    "def click():\n",
    "    chkBtn2.flash()   # flash (normal 상태 배경 색상과 active 상태 배경 색상 사이에서 깜박거림을 표현)\n",
    "\n",
    "chkBtn1 = tk.Checkbutton(win, text='독서', state='disabled', activebackground='pink')\n",
    "chkBtn1.grid(column=0, row=0, sticky=tk.W)  # sticky : center가 없는 옵션\n",
    "\n",
    "chkBtn2 = tk.Checkbutton(win, text='영화감상', activebackground='yellow')\n",
    "chkBtn2.grid(column=1, row=0, sticky='w')\n",
    "\n",
    "chkBtn3 = tk.Checkbutton(win, text='음주가무', command=click)\n",
    "chkBtn3.select()\n",
    "chkBtn3.grid(column=2, row=0)\n",
    "\n",
    "win.mainloop()"
   ]
  },
  {
   "cell_type": "markdown",
   "id": "3debbeed",
   "metadata": {},
   "source": [
    "### 5) ComboBox 위젯"
   ]
  },
  {
   "cell_type": "code",
   "execution_count": 22,
   "id": "47f81fd4",
   "metadata": {},
   "outputs": [],
   "source": [
    "win = tk.Tk()\n",
    "\n",
    "win.title('combo box ex')\n",
    "win.geometry('640x480+200+200')\n",
    "\n",
    "def select():\n",
    "    lb.config(text=coffeeName.get() + '를/을' + amount.get() + '잔 주문하셨습니다' )\n",
    "\n",
    "ttk.Label(win, text='커피 종류 입력').grid(column=0, row=0)\n",
    "\n",
    "coffeeName = tk.StringVar()\n",
    "coffeeEntry = ttk.Entry(win, textvariable=coffeeName, width=10)\n",
    "coffeeEntry.grid(column=1, row=0)\n",
    "\n",
    "ttk.Label(win, text='잔 수를 입력하세요').grid(column=0, row=1)\n",
    "\n",
    "amount = tk.StringVar()\n",
    "comboBox = ttk.Combobox(win, textvariable=amount, width=5)\n",
    "comboBox.grid(column=1, row=1)\n",
    "comboBox['values'] = (1, 2, 5, 10, 20)\n",
    "\n",
    "btn = ttk.Button(win, text='주문', command=select)\n",
    "btn.grid(column=0, row=2)\n",
    "\n",
    "lb = ttk.Label(win, text='', background='yellow')\n",
    "lb.grid(column=0, row=3)\n",
    "\n",
    "# focus\n",
    "coffeeEntry.focus()\n",
    "\n",
    "win.mainloop()"
   ]
  },
  {
   "cell_type": "markdown",
   "id": "8619ba22",
   "metadata": {},
   "source": [
    "### 6) Radio button 위젯"
   ]
  },
  {
   "cell_type": "code",
   "execution_count": 42,
   "id": "663e12a4",
   "metadata": {},
   "outputs": [],
   "source": [
    "win = tk.Tk()\n",
    "\n",
    "win.title('combobox ex')\n",
    "win.geometry('640x480+200+200')\n",
    "\n",
    "def check():\n",
    "    lb2.config(text='rBtn1 value: '+ str(rBtn1.get()) + ', rBtn2 value: '+ str(rBtn2.get()) + \n",
    "              ', result: ' + str(rBtn1.get() + rBtn2.get()))\n",
    "\n",
    "rBtn1 = tk.IntVar()\n",
    "rBtn2 = tk.IntVar()\n",
    "\n",
    "radioBtn1 = ttk.Radiobutton(win, text='첫번째', value=1, variable=rBtn1, command=check)\n",
    "radioBtn1.pack()\n",
    "\n",
    "radioBtn2 = ttk.Radiobutton(win, text='두번째', value=2, variable=rBtn1, command=check)\n",
    "radioBtn2.pack()\n",
    "\n",
    "radioBtn3 = ttk.Radiobutton(win, text='세번째', value=3, variable=rBtn1, command=check)\n",
    "radioBtn3.pack()\n",
    "\n",
    "\n",
    "lb1 = tk.Label(win, text='-----------------------')\n",
    "lb1.pack()\n",
    "\n",
    "lb2 = tk.Label(win, text='result')\n",
    "lb2.pack()\n",
    "\n",
    "lb3 = tk.Label(win, text='-----------------------')\n",
    "lb3.pack()\n",
    "\n",
    "radioBtn4 = ttk.Radiobutton(win, text='네번째', value=4, variable=rBtn2, command=check)\n",
    "radioBtn4.pack()\n",
    "\n",
    "radioBtn5 = ttk.Radiobutton(win, text='다섯번째', value=5, variable=rBtn2, command=check)\n",
    "radioBtn5.pack()\n",
    "\n",
    "win.mainloop()"
   ]
  },
  {
   "cell_type": "code",
   "execution_count": null,
   "id": "dafb9fca",
   "metadata": {},
   "outputs": [],
   "source": []
  },
  {
   "cell_type": "code",
   "execution_count": null,
   "id": "f7d56251",
   "metadata": {},
   "outputs": [],
   "source": []
  },
  {
   "cell_type": "code",
   "execution_count": null,
   "id": "6deced51",
   "metadata": {},
   "outputs": [],
   "source": []
  },
  {
   "cell_type": "code",
   "execution_count": null,
   "id": "8269d2c3",
   "metadata": {},
   "outputs": [],
   "source": []
  }
 ],
 "metadata": {
  "kernelspec": {
   "display_name": "Python 3",
   "language": "python",
   "name": "python3"
  },
  "language_info": {
   "codemirror_mode": {
    "name": "ipython",
    "version": 3
   },
   "file_extension": ".py",
   "mimetype": "text/x-python",
   "name": "python",
   "nbconvert_exporter": "python",
   "pygments_lexer": "ipython3",
   "version": "3.8.8"
  }
 },
 "nbformat": 4,
 "nbformat_minor": 5
}
