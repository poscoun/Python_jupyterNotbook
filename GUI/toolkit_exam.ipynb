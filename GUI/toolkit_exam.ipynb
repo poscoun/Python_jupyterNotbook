{
 "cells": [
  {
   "cell_type": "code",
   "execution_count": 4,
   "id": "827f3bbb",
   "metadata": {},
   "outputs": [],
   "source": [
    "import tkinter as tk\n",
    " \n",
    "# tkinter 서브모듈 : ttk(themed tk) - 개선된 GUI를 제공하는 모듈\n",
    "from tkinter import ttk"
   ]
  },
  {
   "cell_type": "code",
   "execution_count": 8,
   "id": "0909d254",
   "metadata": {},
   "outputs": [],
   "source": [
    "win = tk.Tk()\n",
    "\n",
    "win.title('Ex1')\n",
    "win.geometry('320x280+200+200')\n",
    "win.resizable(0, 0)\n",
    "\n",
    "label = ttk.Label(win, text='label widget', width=15, background='pink', relief='solid')\n",
    "label.pack()\n",
    "\n",
    "win.mainloop()"
   ]
  },
  {
   "cell_type": "code",
   "execution_count": 16,
   "id": "22327fa4",
   "metadata": {},
   "outputs": [],
   "source": [
    "import tkinter as tk\n",
    "from tkinter import ttk\n",
    "\n",
    "win = tk.Tk()\n",
    "\n",
    "win.title('python tkinter module')\n",
    "win.geometry('320x240+200+200')\n",
    "win.resizable(0,0)\n",
    "\n",
    "label = tk.Label(win, text='label widget', width=10, bg='yellow', height=5,fg='blue',relief='sunken',padx=100,pady=100)\n",
    "label.pack()\n",
    "\n",
    "win.mainloop()"
   ]
  },
  {
   "cell_type": "markdown",
   "id": "5da3b5a3",
   "metadata": {},
   "source": [
    "# 로또 번호 6개 출력"
   ]
  },
  {
   "cell_type": "code",
   "execution_count": 5,
   "id": "7ae4b94e",
   "metadata": {},
   "outputs": [],
   "source": [
    "import random"
   ]
  },
  {
   "cell_type": "code",
   "execution_count": 6,
   "id": "22b2890f",
   "metadata": {},
   "outputs": [],
   "source": [
    "win = tk.Tk()\n",
    "\n",
    "win.title('lotto')\n",
    "win.geometry('640x480+200+200')\n",
    "\n",
    "def lotto():\n",
    "    lotto = []\n",
    "    while len(lotto)<6:\n",
    "        num = random.randint(1,45)\n",
    "        if num not in lotto:\n",
    "               lotto.append(num)\n",
    "                \n",
    "                \n",
    "    lotto.sort()\n",
    "    lb.config(text=lotto, background='yellow')\n",
    "\n",
    "\n",
    "btn = ttk.Button(win, text='lotto', command=lotto)\n",
    "btn.pack()\n",
    "\n",
    "lb = ttk.Label(win, text='')\n",
    "lb.pack()\n",
    "\n",
    "win.mainloop()"
   ]
  },
  {
   "cell_type": "markdown",
   "id": "9db1b0d7",
   "metadata": {},
   "source": [
    "# 버튼 클릭하면 사용자가 선택한 구구단이 출력"
   ]
  },
  {
   "cell_type": "code",
   "execution_count": 43,
   "id": "8bd4b50b",
   "metadata": {},
   "outputs": [],
   "source": [
    "win = tk.Tk()\n",
    "\n",
    "win.title('구구단')\n",
    "win.geometry('640x480+200+200')\n",
    "\n",
    "label = ['', '', '', '', '', '', '', '', '']\n",
    "\n",
    "def gugudan():\n",
    "    dan = int(num.get())\n",
    "    for i in range(1, 10):\n",
    "        label[i-1] = ttk.Label(win, text='')\n",
    "        label[i-1].config(text=(dan*i))\n",
    "        label[i-1].pack()\n",
    "\n",
    "num = tk.IntVar()\n",
    "\n",
    "entry = ttk.Entry(win, textvariable=num)\n",
    "entry.pack()\n",
    "\n",
    "btn = ttk.Button(win, text='click', command=gugudan)\n",
    "btn.pack()\n",
    "\n",
    "win.mainloop()"
   ]
  },
  {
   "cell_type": "code",
   "execution_count": 38,
   "id": "57785586",
   "metadata": {},
   "outputs": [
    {
     "name": "stdout",
     "output_type": "stream",
     "text": [
      "1\n",
      "2\n",
      "3\n",
      "4\n",
      "5\n",
      "6\n",
      "7\n",
      "8\n",
      "9\n"
     ]
    }
   ],
   "source": [
    "for i in range(1, 10):\n",
    "    print(i)"
   ]
  }
 ],
 "metadata": {
  "kernelspec": {
   "display_name": "Python 3",
   "language": "python",
   "name": "python3"
  },
  "language_info": {
   "codemirror_mode": {
    "name": "ipython",
    "version": 3
   },
   "file_extension": ".py",
   "mimetype": "text/x-python",
   "name": "python",
   "nbconvert_exporter": "python",
   "pygments_lexer": "ipython3",
   "version": "3.8.8"
  }
 },
 "nbformat": 4,
 "nbformat_minor": 5
}
