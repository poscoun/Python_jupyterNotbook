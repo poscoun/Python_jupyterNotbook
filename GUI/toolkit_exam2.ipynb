{
 "cells": [
  {
   "cell_type": "markdown",
   "id": "c0fc646a",
   "metadata": {},
   "source": [
    "1. 버튼 클릭하면 Text widget에 로또 번호 6개 출력"
   ]
  },
  {
   "cell_type": "code",
   "execution_count": 2,
   "id": "35f9477d",
   "metadata": {},
   "outputs": [],
   "source": [
    "import tkinter as tk\n",
    "from tkinter import ttk"
   ]
  },
  {
   "cell_type": "code",
   "execution_count": 3,
   "id": "c5d6329f",
   "metadata": {},
   "outputs": [],
   "source": [
    "import random"
   ]
  },
  {
   "cell_type": "code",
   "execution_count": 5,
   "id": "2e0c23d2",
   "metadata": {},
   "outputs": [],
   "source": [
    "win = tk.Tk()\n",
    "\n",
    "win.title('lotto Text widget')\n",
    "win.geometry('640x480+200+200')\n",
    "\n",
    "def lotto():\n",
    "    lotto = []\n",
    "    while len(lotto)<6:\n",
    "        num = random.randint(1,45)\n",
    "        if num not in lotto:\n",
    "            lotto.append(num)\n",
    "    \n",
    "    lotto.sort()\n",
    "    text.insert('current', lotto)\n",
    "    text.insert('current', '\\n')        \n",
    "    \n",
    "text = tk.Text(win)\n",
    "text.pack()\n",
    "\n",
    "btn = ttk.Button(win, text='lotto', command=lotto)\n",
    "btn.pack()\n",
    "\n",
    "win.mainloop()"
   ]
  },
  {
   "cell_type": "markdown",
   "id": "08bbf876",
   "metadata": {},
   "source": [
    "2. 라디오 버튼 3개 (red, yellow, green) 각각의 라디오 버튼이 클릭되면 윈도우창의 색상이 정해진 value로 바뀌면 됨"
   ]
  },
  {
   "cell_type": "code",
   "execution_count": 6,
   "id": "d28c6c4b",
   "metadata": {},
   "outputs": [],
   "source": [
    "win = tk.Tk()\n",
    "\n",
    "win.title('신호등')\n",
    "win.geometry('640x480+200+200')\n",
    "\n",
    "def click():\n",
    "    value = color.get()\n",
    "    if value == 1 :\n",
    "        win.config(bg='red')\n",
    "    elif value == 2 :\n",
    "        win.configure(bg='yellow')\n",
    "    elif value == 3 :\n",
    "        win.configure(bg='green')\n",
    "    \n",
    "color = tk.IntVar()\n",
    "\n",
    "radioBtn1 = ttk.Radiobutton(win, text='red', value=1, variable=color, command=click)\n",
    "radioBtn1.grid(column=0, row=0)\n",
    "\n",
    "radioBtn2 = ttk.Radiobutton(win, text='yellow', value=2, variable=color, command=click)\n",
    "radioBtn2.grid(column=1, row=0)\n",
    "\n",
    "radioBtn3 = ttk.Radiobutton(win, text='green', value=3, variable=color, command=click)\n",
    "radioBtn3.grid(column=2, row=0)\n",
    "\n",
    "win.mainloop()"
   ]
  },
  {
   "cell_type": "markdown",
   "id": "5afeb14e",
   "metadata": {},
   "source": [
    "3. 윈도우를 실행하면 1초 단위로 숫자가 증가하면 됨(timer를 간단히 구현)"
   ]
  },
  {
   "cell_type": "code",
   "execution_count": 1,
   "id": "e35464f7",
   "metadata": {},
   "outputs": [],
   "source": [
    "import threading\n",
    "import requests\n",
    "import time"
   ]
  },
  {
   "cell_type": "code",
   "execution_count": 2,
   "id": "c2f36151",
   "metadata": {},
   "outputs": [],
   "source": [
    "def getNaver(url):\n",
    "    res = requests.get(url)\n",
    "    time.sleep(1)\n",
    "    print(url, len(res.text))\n",
    "    \n",
    "td = threading.Thread(target=getNaver, args=('http://www.naver.com',))\n",
    "td.start()"
   ]
  },
  {
   "cell_type": "code",
   "execution_count": 3,
   "id": "8bff6d4a",
   "metadata": {},
   "outputs": [],
   "source": [
    "import threading, requests, time\n",
    "\n",
    "class GetNaver(threading.Thread):\n",
    "    def __init__(self, url):\n",
    "        threading.Thread.__init__(self)\n",
    "        self.url = url\n",
    "        \n",
    "    def run(self):\n",
    "        res = requests.get(self.url)\n",
    "        time.sleep(1)\n",
    "        print(self.url, len(res.text))"
   ]
  },
  {
   "cell_type": "code",
   "execution_count": 4,
   "id": "6fc702e3",
   "metadata": {},
   "outputs": [],
   "source": [
    "td = GetNaver('http://www.naver.com')\n",
    "td.start()"
   ]
  },
  {
   "cell_type": "code",
   "execution_count": 5,
   "id": "af119239",
   "metadata": {},
   "outputs": [],
   "source": [
    "# timer\n",
    "import tkinter, time\n",
    "import tkinter.font"
   ]
  },
  {
   "cell_type": "code",
   "execution_count": 6,
   "id": "8108763f",
   "metadata": {},
   "outputs": [],
   "source": [
    "class Timer(tkinter.Tk):\n",
    "    def __init__(self):\n",
    "        tkinter.Tk.__init__(self)\n",
    "        self.lb_Var = tkinter.IntVar(self, 0)\n",
    "        self.font = tkinter.font.Font(family='맑은 고딕', size=40, weight='bold')\n",
    "        self.label = tkinter.Label(self, textvariable=self.lb_Var, font=self.font)\n",
    "        self.label.pack(padx=30, pady=30)\n",
    "        \n",
    "    def timer(self):\n",
    "#         while True:\n",
    "#             time.sleep(1)\n",
    "#             self.lb_Var.set(self.lb_Var.get()+1)\n",
    "        self.lb_Var.set(self.lb_Var.get()+1)\n",
    "        self.after(1000, self.timer)    # 현재 재귀함수 처리 -독립적인 스레드로 동작\n",
    "            \n",
    "            "
   ]
  },
  {
   "cell_type": "code",
   "execution_count": 7,
   "id": "d73c3460",
   "metadata": {},
   "outputs": [
    {
     "name": "stdout",
     "output_type": "stream",
     "text": [
      "http://www.naver.com 177207\n",
      "http://www.naver.com 183104\n"
     ]
    }
   ],
   "source": [
    "win = Timer()\n",
    "win.timer()\n",
    "win.mainloop()"
   ]
  },
  {
   "cell_type": "code",
   "execution_count": null,
   "id": "b5d0b0a6",
   "metadata": {},
   "outputs": [],
   "source": []
  },
  {
   "cell_type": "code",
   "execution_count": null,
   "id": "d678fa21",
   "metadata": {},
   "outputs": [],
   "source": []
  }
 ],
 "metadata": {
  "kernelspec": {
   "display_name": "Python 3",
   "language": "python",
   "name": "python3"
  },
  "language_info": {
   "codemirror_mode": {
    "name": "ipython",
    "version": 3
   },
   "file_extension": ".py",
   "mimetype": "text/x-python",
   "name": "python",
   "nbconvert_exporter": "python",
   "pygments_lexer": "ipython3",
   "version": "3.8.8"
  }
 },
 "nbformat": 4,
 "nbformat_minor": 5
}
