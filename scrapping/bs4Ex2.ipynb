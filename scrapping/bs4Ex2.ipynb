{
 "cells": [
  {
   "cell_type": "markdown",
   "id": "d941d382",
   "metadata": {},
   "source": [
    "## beautifulsoup function"
   ]
  },
  {
   "cell_type": "code",
   "execution_count": 1,
   "id": "bcec9a21",
   "metadata": {},
   "outputs": [],
   "source": [
    "from bs4 import BeautifulSoup"
   ]
  },
  {
   "cell_type": "code",
   "execution_count": 24,
   "id": "6219327a",
   "metadata": {},
   "outputs": [],
   "source": [
    "html = '''<html><head><title class=\"t\" id=\"ti\">test site</title></head><body><p><span>test0</span><span>test1</span></p><p id=\"d\" class=\"a\">test2</p><p class=\"b\">test3</p></body></html>'''\n",
    "soup = BeautifulSoup(html, 'lxml')"
   ]
  },
  {
   "cell_type": "code",
   "execution_count": 9,
   "id": "fcaceb29",
   "metadata": {},
   "outputs": [
    {
     "name": "stdout",
     "output_type": "stream",
     "text": [
      "<p><span>test0</span><span>test1</span></p>\n"
     ]
    }
   ],
   "source": [
    "p_element = soup.p\n",
    "print(p_element)"
   ]
  },
  {
   "cell_type": "code",
   "execution_count": 10,
   "id": "682198bc",
   "metadata": {},
   "outputs": [
    {
     "name": "stdout",
     "output_type": "stream",
     "text": [
      "[<title class=\"t\" id=\"ti\">test site</title>]\n"
     ]
    }
   ],
   "source": [
    "# 원하는 태그 찾기 : find_all()\n",
    "print(soup.find_all('title'))"
   ]
  },
  {
   "cell_type": "code",
   "execution_count": 11,
   "id": "184c5234",
   "metadata": {},
   "outputs": [
    {
     "name": "stdout",
     "output_type": "stream",
     "text": [
      "[<p><span>test0</span><span>test1</span></p>, <p>test2</p>, <p>test3</p>]\n"
     ]
    }
   ],
   "source": [
    "print(soup.find_all('p'))"
   ]
  },
  {
   "cell_type": "code",
   "execution_count": 19,
   "id": "9c9e5567",
   "metadata": {},
   "outputs": [
    {
     "name": "stdout",
     "output_type": "stream",
     "text": [
      "[<p id=\"d\">test2</p>]\n"
     ]
    }
   ],
   "source": [
    "print(soup.find_all(id='d'))        # id로 찾기 가능"
   ]
  },
  {
   "cell_type": "code",
   "execution_count": 20,
   "id": "3227c7e0",
   "metadata": {},
   "outputs": [
    {
     "name": "stdout",
     "output_type": "stream",
     "text": [
      "[<title class=\"t\" id=\"ti\">test site</title>, <p id=\"d\">test2</p>]\n"
     ]
    }
   ],
   "source": [
    "print(soup.find_all(id = True))"
   ]
  },
  {
   "cell_type": "code",
   "execution_count": 21,
   "id": "266edaeb",
   "metadata": {},
   "outputs": [
    {
     "name": "stdout",
     "output_type": "stream",
     "text": [
      "[<p id=\"d\">test2</p>]\n"
     ]
    }
   ],
   "source": [
    "# find_all()은 전체 HTML을 인식하므로 필요한 데이터는 body에 대부분 있으므로 한정하는 방식이 더 권장\n",
    "print(soup.body.find_all(id = True))"
   ]
  },
  {
   "cell_type": "code",
   "execution_count": 22,
   "id": "56c3e22b",
   "metadata": {},
   "outputs": [
    {
     "name": "stdout",
     "output_type": "stream",
     "text": [
      "[<p><span>test0</span><span>test1</span></p>, <span>test0</span>, <span>test1</span>, <p>test3</p>]\n"
     ]
    }
   ],
   "source": [
    "print(soup.body.find_all(id = False))\n",
    "\n",
    "# id가 존재하지 않는 태그를 찾아서 리스트로 return"
   ]
  },
  {
   "cell_type": "code",
   "execution_count": 23,
   "id": "f2cbcde9",
   "metadata": {},
   "outputs": [
    {
     "name": "stdout",
     "output_type": "stream",
     "text": [
      "[<p id=\"d\">test2</p>]\n",
      "[]\n"
     ]
    }
   ],
   "source": [
    "print(soup.find_all('p', id='d'))    # 더 한정해서 찾을 수 있음\n",
    "print(soup.find_all('p', id='x'))    # 찾고자 하는 id가 없어도 에러 x"
   ]
  },
  {
   "cell_type": "code",
   "execution_count": 26,
   "id": "2f267d2a",
   "metadata": {},
   "outputs": [
    {
     "name": "stdout",
     "output_type": "stream",
     "text": [
      "[<p class=\"a\" id=\"d\">test2</p>]\n",
      "[]\n"
     ]
    }
   ],
   "source": [
    "# class 로도 찾기 가능\n",
    "\n",
    "# class 키워드는 객체(클래스)를 만들 때 사용하는 키워드 이므로 class_ 를 사용하여 중복 위험을 없애기 (권장)\n",
    "print(soup.find_all('p', class_='a'))\n",
    "print(soup.find_all('p', class_='x'))"
   ]
  },
  {
   "cell_type": "code",
   "execution_count": 28,
   "id": "f3f05899",
   "metadata": {},
   "outputs": [
    {
     "name": "stdout",
     "output_type": "stream",
     "text": [
      "[<p class=\"a\" id=\"d\">test2</p>]\n",
      "[]\n",
      "[<p class=\"a\" id=\"d\">test2</p>]\n"
     ]
    }
   ],
   "source": [
    "# find_all() : 두번째 인자는 class_ 속성으로 인식하므로 id로 인식시키려면 id속성을 표기\n",
    "print(soup.find_all('p', 'a'))\n",
    "print(soup.find_all('p', 'd'))\n",
    "\n",
    "print(soup.find_all('p', id='d'))"
   ]
  },
  {
   "cell_type": "code",
   "execution_count": 29,
   "id": "33f2dbb1",
   "metadata": {},
   "outputs": [
    {
     "name": "stdout",
     "output_type": "stream",
     "text": [
      "[<p class=\"a\" id=\"d\">test2</p>]\n",
      "[]\n"
     ]
    }
   ],
   "source": [
    "# 내용요소로도 찾기 가능\n",
    "print(soup.find_all('p', text='test2'))\n",
    "print(soup.find_all('p', text='test'))"
   ]
  },
  {
   "cell_type": "code",
   "execution_count": 31,
   "id": "0133c506",
   "metadata": {},
   "outputs": [
    {
     "name": "stdout",
     "output_type": "stream",
     "text": [
      "test2\n"
     ]
    }
   ],
   "source": [
    "# 내용요소를 출력\n",
    "print(soup.find('p', text='test2').get_text())"
   ]
  },
  {
   "cell_type": "code",
   "execution_count": 35,
   "id": "29e692d4",
   "metadata": {},
   "outputs": [
    {
     "name": "stdout",
     "output_type": "stream",
     "text": [
      "[<p><span>test0</span><span>test1</span></p>, <p class=\"a\" id=\"d\">test2</p>, <p class=\"b\">test3</p>]\n",
      "[<p><span>test0</span><span>test1</span></p>]\n",
      "[<p><span>test0</span><span>test1</span></p>, <p class=\"a\" id=\"d\">test2</p>]\n",
      "[<p><span>test0</span><span>test1</span></p>, <p class=\"a\" id=\"d\">test2</p>, <p class=\"b\">test3</p>]\n",
      "[<p><span>test0</span><span>test1</span></p>, <p class=\"a\" id=\"d\">test2</p>, <p class=\"b\">test3</p>]\n"
     ]
    }
   ],
   "source": [
    "# 같은 이름의 태그를 찾은 후 제한을 두고 찾아올 수도 있음\n",
    "print(soup.find_all('p'))             # find_all() : 리미트가 없으면 모든 태그를 찾음\n",
    "print(soup.find_all('p', limit=1))\n",
    "print(soup.find_all('p', limit=2))\n",
    "print(soup.find_all('p', limit=3))\n",
    "print(soup.find_all('p', limit=4))   # 찾은 태그가 리미트보다 작아도 에러가 나지 않는다"
   ]
  },
  {
   "cell_type": "code",
   "execution_count": 36,
   "id": "b8317985",
   "metadata": {},
   "outputs": [],
   "source": [
    "html = '''<html><head><title class=\"t\" id=\"ti\">test site</title></head><body><p><span>test0</span><span>test1</span></p><p id=\"d\" class=\"a\">test2</p><p class=\"b\">test3</p><a>a tag1</a><a>a tag2</a></body></html>'''\n",
    "\n",
    "soup = BeautifulSoup(html, 'lxml')"
   ]
  },
  {
   "cell_type": "code",
   "execution_count": 37,
   "id": "f4ece4a0",
   "metadata": {},
   "outputs": [
    {
     "name": "stdout",
     "output_type": "stream",
     "text": [
      "[<p><span>test0</span><span>test1</span></p>, <p class=\"a\" id=\"d\">test2</p>, <p class=\"b\">test3</p>, <a>a tag1</a>, <a>a tag2</a>]\n"
     ]
    }
   ],
   "source": [
    "# 찾고자 하는 태그가 한 개 이상이라면 list 형식으로 찾도록 할 수 있음\n",
    "print(soup.find_all(['p', 'a']))     # 한 개의 리스트로 return"
   ]
  },
  {
   "cell_type": "code",
   "execution_count": 41,
   "id": "9c18f603",
   "metadata": {},
   "outputs": [
    {
     "name": "stdout",
     "output_type": "stream",
     "text": [
      "[<body><p><span>test0</span><span>test1</span></p><p class=\"a\" id=\"d\">test2</p><p class=\"b\">test3</p><a>a tag1</a><a>a tag2</a></body>]\n",
      "[<p><span>test0</span><span>test1</span></p>, <p class=\"a\" id=\"d\">test2</p>, <p class=\"b\">test3</p>]\n",
      "-------------------------------\n",
      "<class 'bs4.element.ResultSet'>\n",
      "<class 'bs4.element.ResultSet'>\n"
     ]
    }
   ],
   "source": [
    "# find_all() return 하면 list형으로 출력은 되지만 원 타입은 ResultSet 객체\n",
    "tag_body = soup.find_all('body')\n",
    "tag_p = tag_body[0].find_all('p')\n",
    "\n",
    "print(tag_body)\n",
    "print(tag_p)\n",
    "\n",
    "print('-------------------------------')\n",
    "print(type(tag_body))\n",
    "print(type(tag_p))\n"
   ]
  },
  {
   "cell_type": "code",
   "execution_count": 44,
   "id": "706a9c11",
   "metadata": {},
   "outputs": [
    {
     "name": "stdout",
     "output_type": "stream",
     "text": [
      "<p><span>test0</span><span>test1</span></p>\n",
      "<p><span>test0</span><span>test1</span></p>\n"
     ]
    }
   ],
   "source": [
    "# find() : 한개 요소 찾기\n",
    "print(soup.find('p'))    # 같은 이름의 태그가 한 개 이상일 경우 첫번째 태그를 찾아 줌\n",
    "print(soup.find_all('p', limit=1)[0])"
   ]
  },
  {
   "cell_type": "code",
   "execution_count": 45,
   "id": "a052a9df",
   "metadata": {},
   "outputs": [
    {
     "name": "stdout",
     "output_type": "stream",
     "text": [
      "None\n"
     ]
    },
    {
     "ename": "IndexError",
     "evalue": "list index out of range",
     "output_type": "error",
     "traceback": [
      "\u001b[1;31m---------------------------------------------------------------------------\u001b[0m",
      "\u001b[1;31mIndexError\u001b[0m                                Traceback (most recent call last)",
      "\u001b[1;32m<ipython-input-45-8ada53807f02>\u001b[0m in \u001b[0;36m<module>\u001b[1;34m\u001b[0m\n\u001b[0;32m      1\u001b[0m \u001b[0mprint\u001b[0m\u001b[1;33m(\u001b[0m\u001b[0msoup\u001b[0m\u001b[1;33m.\u001b[0m\u001b[0mfind\u001b[0m\u001b[1;33m(\u001b[0m\u001b[1;34m'img'\u001b[0m\u001b[1;33m)\u001b[0m\u001b[1;33m)\u001b[0m\u001b[1;33m\u001b[0m\u001b[1;33m\u001b[0m\u001b[0m\n\u001b[1;32m----> 2\u001b[1;33m \u001b[0mprint\u001b[0m\u001b[1;33m(\u001b[0m\u001b[0msoup\u001b[0m\u001b[1;33m.\u001b[0m\u001b[0mfind_all\u001b[0m\u001b[1;33m(\u001b[0m\u001b[1;34m'img'\u001b[0m\u001b[1;33m,\u001b[0m \u001b[0mlimit\u001b[0m\u001b[1;33m=\u001b[0m\u001b[1;36m1\u001b[0m\u001b[1;33m)\u001b[0m\u001b[1;33m[\u001b[0m\u001b[1;36m0\u001b[0m\u001b[1;33m]\u001b[0m\u001b[1;33m)\u001b[0m\u001b[1;33m\u001b[0m\u001b[1;33m\u001b[0m\u001b[0m\n\u001b[0m",
      "\u001b[1;31mIndexError\u001b[0m: list index out of range"
     ]
    }
   ],
   "source": [
    "print(soup.find('img'))\n",
    "print(soup.find_all('img', limit=1)[0])"
   ]
  },
  {
   "cell_type": "code",
   "execution_count": 46,
   "id": "7a1d781d",
   "metadata": {},
   "outputs": [
    {
     "name": "stdout",
     "output_type": "stream",
     "text": [
      "<p class=\"b\">test3</p>\n",
      "<p class=\"b\">test3</p>\n",
      "<p class=\"a\" id=\"d\">test2</p>\n"
     ]
    }
   ],
   "source": [
    "# find와 find_all() 사용법은 같음\n",
    "# 단순히 첫번째 요소를 찾는것이 아님에 유의!\n",
    "# 출력 결과를 리스트가 아닌 하나의 요소로 출력함에도 유의!\n",
    "print(soup.find('p', class_='b'))\n",
    "print(soup.find('p', 'b'))\n",
    "print(soup.find('p', id='d'))"
   ]
  },
  {
   "cell_type": "code",
   "execution_count": 47,
   "id": "c4ea9092",
   "metadata": {},
   "outputs": [
    {
     "name": "stdout",
     "output_type": "stream",
     "text": [
      "<p class=\"b\">test3</p>\n"
     ]
    }
   ],
   "source": [
    "# 한정\n",
    "print(soup.find('body').find('p', class_='b'))"
   ]
  },
  {
   "cell_type": "code",
   "execution_count": 55,
   "id": "88e6022b",
   "metadata": {},
   "outputs": [],
   "source": [
    "html = '''<html><head><title class=\"t\"id=\"ti\">test site</title></head><body><div><p><span>test1</span><span>test2</span></p><p id=\"d\" class=\"a\">test2</p></div><p class=\"b\">test3</p><a>a tag1</a><a>a tag2</a></body></html>'''\n",
    "\n",
    "soup = BeautifulSoup(html, 'lxml')"
   ]
  },
  {
   "cell_type": "code",
   "execution_count": 56,
   "id": "aae04e17",
   "metadata": {},
   "outputs": [
    {
     "name": "stdout",
     "output_type": "stream",
     "text": [
      "[<p><span>test1</span><span>test2</span></p>, <p class=\"a\" id=\"d\">test2</p>, <p class=\"b\">test3</p>]\n",
      "[<p class=\"b\">test3</p>]\n",
      "[<p class=\"b\">test3</p>]\n",
      "[<p class=\"a\" id=\"d\">test2</p>]\n",
      "[<p class=\"a\" id=\"d\">test2</p>]\n",
      "[<p><span>test1</span><span>test2</span></p>, <p class=\"a\" id=\"d\">test2</p>]\n"
     ]
    }
   ],
   "source": [
    "# CSS selector를 이용해서 요소 찾기 : select()\n",
    "\n",
    "print(soup.select('body p'))            # 공백은 부모-자식 관계를 표현\n",
    "print(soup.select('body .b'))           # . : class\n",
    "print(soup.select('body p.b'))\n",
    "print(soup.select('body #d'))           #      # : id\n",
    "print(soup.select('body p#d'))\n",
    "\n",
    "print(soup.select('div p'))"
   ]
  },
  {
   "cell_type": "code",
   "execution_count": 58,
   "id": "44f78ef4",
   "metadata": {},
   "outputs": [
    {
     "ename": "AttributeError",
     "evalue": "'NoneType' object has no attribute 'extract'",
     "output_type": "error",
     "traceback": [
      "\u001b[1;31m---------------------------------------------------------------------------\u001b[0m",
      "\u001b[1;31mAttributeError\u001b[0m                            Traceback (most recent call last)",
      "\u001b[1;32m<ipython-input-58-d1ddaffb55aa>\u001b[0m in \u001b[0;36m<module>\u001b[1;34m\u001b[0m\n\u001b[0;32m      1\u001b[0m \u001b[1;31m# 요소 제거 : extract\u001b[0m\u001b[1;33m\u001b[0m\u001b[1;33m\u001b[0m\u001b[1;33m\u001b[0m\u001b[0m\n\u001b[1;32m----> 2\u001b[1;33m \u001b[0mdel_elements\u001b[0m \u001b[1;33m=\u001b[0m \u001b[0msoup\u001b[0m\u001b[1;33m.\u001b[0m\u001b[0mbody\u001b[0m\u001b[1;33m.\u001b[0m\u001b[0mextract\u001b[0m\u001b[1;33m(\u001b[0m\u001b[1;33m)\u001b[0m\u001b[1;33m\u001b[0m\u001b[1;33m\u001b[0m\u001b[0m\n\u001b[0m\u001b[0;32m      3\u001b[0m \u001b[1;33m\u001b[0m\u001b[0m\n\u001b[0;32m      4\u001b[0m \u001b[0mprint\u001b[0m\u001b[1;33m(\u001b[0m\u001b[1;34m'삭제 항목'\u001b[0m\u001b[1;33m,\u001b[0m \u001b[0mdel_elements\u001b[0m\u001b[1;33m)\u001b[0m\u001b[1;33m\u001b[0m\u001b[1;33m\u001b[0m\u001b[0m\n\u001b[0;32m      5\u001b[0m \u001b[0mprtin\u001b[0m\u001b[1;33m(\u001b[0m\u001b[1;34m'--------------------------------------------------------------------'\u001b[0m\u001b[1;33m)\u001b[0m\u001b[1;33m\u001b[0m\u001b[1;33m\u001b[0m\u001b[0m\n",
      "\u001b[1;31mAttributeError\u001b[0m: 'NoneType' object has no attribute 'extract'"
     ]
    }
   ],
   "source": [
    "# 요소 제거 : extract\n",
    "del_elements = soup.body.extract()\n",
    "\n",
    "print('삭제 항목', del_elements)\n",
    "prtin('--------------------------------------------------------------------')\n",
    "print(soup)\n"
   ]
  },
  {
   "cell_type": "code",
   "execution_count": 61,
   "id": "6e003d56",
   "metadata": {},
   "outputs": [
    {
     "name": "stdout",
     "output_type": "stream",
     "text": [
      "[<p><span>test1</span><span>test2</span></p>, <p class=\"a\" id=\"d\">test2</p>, <p class=\"b\">test3</p>]\n",
      "[]\n"
     ]
    }
   ],
   "source": [
    "html = '''<html><head><title class=\"t\"id=\"ti\">test site</title></head><body><div><p><span>test1</span><span>test2</span></p><p id=\"d\" class=\"a\">test2</p></div><p class=\"b\">test3</p><a>a tag1</a><a>a tag2</a></body></html>'''\n",
    "\n",
    "soup = BeautifulSoup(html, 'lxml')\n",
    "\n",
    "print(soup.select('p'))\n",
    "\n",
    "# 같은 이름의 요소들 삭제 \n",
    "for tag in soup.select('p'):\n",
    "    tag.extract()\n",
    "\n",
    "print(soup.select('p'))"
   ]
  },
  {
   "cell_type": "code",
   "execution_count": 67,
   "id": "1a1af40c",
   "metadata": {},
   "outputs": [
    {
     "name": "stdout",
     "output_type": "stream",
     "text": [
      "[<p><span>test1</span><span>test2</span></p>, <p class=\"a\" id=\"d\">test2</p>, <p class=\"b\">test3</p>, <a>a tag1</a>, <a>a tag2</a>]\n",
      "[]\n"
     ]
    }
   ],
   "source": [
    "html = '''<html><head><title class=\"t\"id=\"ti\">test site</title></head><body><div><p><span>test1</span><span>test2</span></p><p id=\"d\" class=\"a\">test2</p></div><p class=\"b\">test3</p><a>a tag1</a><a>a tag2</a></body></html>'''\n",
    "\n",
    "soup = BeautifulSoup(html, 'lxml')\n",
    "\n",
    "print(soup.find_all(['p', 'a']))\n",
    "\n",
    "# 같은 이름의 요소들 삭제 \n",
    "for tag in soup.find_all(['p', 'a']):\n",
    "    tag.extract()\n",
    "\n",
    "print(soup.find_all(['p', 'a']))"
   ]
  },
  {
   "cell_type": "code",
   "execution_count": 68,
   "id": "60a1e4db",
   "metadata": {},
   "outputs": [],
   "source": [
    "# [실습] - 사용자가 삭제하려고 하는 태그를 입력하면 그 웹문서에서 요소를 삭제할 수 있도록 하는\n",
    "#           함수를 작성하고, 구현해보세요\n",
    "# ex) remove_element(soup, tags) => remove_element(html, 'p')"
   ]
  },
  {
   "cell_type": "code",
   "execution_count": 69,
   "id": "1ffe99be",
   "metadata": {},
   "outputs": [],
   "source": [
    "def remove_element(soup, tags):\n",
    "    # 요소 삭제 시 tags에 비어있는 리스트가 들어오면 함수를 종료\n",
    "    if tags == []:\n",
    "        return False\n",
    "    \n",
    "    removes = []\n",
    "    \n",
    "    for tag in soup.find_all(tags):\n",
    "        removes.append(tag.extract())\n",
    "    \n",
    "    return removes"
   ]
  },
  {
   "cell_type": "code",
   "execution_count": 71,
   "id": "a7142b47",
   "metadata": {},
   "outputs": [
    {
     "name": "stdout",
     "output_type": "stream",
     "text": [
      "False\n",
      "<html><head><title class=\"t\" id=\"ti\">test site</title></head><body><div><p><span>test1</span><span>test2</span></p><p class=\"a\" id=\"d\">test2</p></div><p class=\"b\">test3</p><a>a tag1</a><a>a tag2</a></body></html>\n",
      "------------------------------------------------------\n",
      "[<p><span>test1</span><span>test2</span></p>, <p class=\"a\" id=\"d\">test2</p>, <p class=\"b\">test3</p>]\n",
      "<html><head><title class=\"t\" id=\"ti\">test site</title></head><body><div></div><a>a tag1</a><a>a tag2</a></body></html>\n"
     ]
    }
   ],
   "source": [
    "html = '''<html><head><title class=\"t\"id=\"ti\">test site</title></head><body><div><p><span>test1</span><span>test2</span></p><p id=\"d\" class=\"a\">test2</p></div><p class=\"b\">test3</p><a>a tag1</a><a>a tag2</a></body></html>'''\n",
    "\n",
    "soup = BeautifulSoup(html, 'lxml')\n",
    "\n",
    "print(remove_element(soup, []))\n",
    "print(soup)\n",
    "\n",
    "print('------------------------------------------------------')\n",
    "# print(remove_element(soup, 'p'))\n",
    "# print(soup)\n",
    "\n",
    "print(remove_element(soup, ))\n"
   ]
  },
  {
   "cell_type": "code",
   "execution_count": null,
   "id": "357de22b",
   "metadata": {},
   "outputs": [],
   "source": []
  }
 ],
 "metadata": {
  "kernelspec": {
   "display_name": "Python 3",
   "language": "python",
   "name": "python3"
  },
  "language_info": {
   "codemirror_mode": {
    "name": "ipython",
    "version": 3
   },
   "file_extension": ".py",
   "mimetype": "text/x-python",
   "name": "python",
   "nbconvert_exporter": "python",
   "pygments_lexer": "ipython3",
   "version": "3.8.8"
  }
 },
 "nbformat": 4,
 "nbformat_minor": 5
}
