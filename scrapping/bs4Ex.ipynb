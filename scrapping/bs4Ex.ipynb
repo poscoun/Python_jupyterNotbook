{
 "cells": [
  {
   "cell_type": "code",
   "execution_count": 2,
   "id": "a377a039",
   "metadata": {},
   "outputs": [
    {
     "name": "stdout",
     "output_type": "stream",
     "text": [
      "Collecting package metadata (current_repodata.json): ...working... done\n",
      "Solving environment: ...working... done\n",
      "\n",
      "# All requested packages already installed.\n",
      "\n"
     ]
    }
   ],
   "source": [
    "!conda install BeautifulSoup4"
   ]
  },
  {
   "cell_type": "code",
   "execution_count": 4,
   "id": "1d96e89b",
   "metadata": {},
   "outputs": [
    {
     "name": "stdout",
     "output_type": "stream",
     "text": [
      "Collecting package metadata (current_repodata.json): ...working... done\n",
      "Solving environment: ...working... done\n",
      "\n",
      "# All requested packages already installed.\n",
      "\n"
     ]
    }
   ],
   "source": [
    "!conda install lxml"
   ]
  },
  {
   "cell_type": "code",
   "execution_count": 1,
   "id": "37cb6cbc",
   "metadata": {},
   "outputs": [],
   "source": [
    "import bs4"
   ]
  },
  {
   "cell_type": "code",
   "execution_count": 6,
   "id": "de83d96d",
   "metadata": {},
   "outputs": [],
   "source": [
    "html = ''''''\n",
    "\n",
    "soup = bs4.BeautifulSoup(html, 'lxml')\n",
    "\n",
    "'''\n",
    "# 파이썬에서 사용하는 parser\n",
    "1) lxml               : xml 해석이 가능한 파서. 파이썬 2.x, 3.x 모두 지원\n",
    "                      : 상대적으로 다른 파서에 비해 빠름 (c 기반)\n",
    "\n",
    "2) html5lib           : 웹 브라우저 방식으로 HTML 해석\n",
    "                      : lxml과 비교하면 상대적으로 느림.\n",
    "\n",
    "3) html.parser        : html5lib와 거의 비슷\n",
    "\n",
    "'''"
   ]
  },
  {
   "cell_type": "code",
   "execution_count": 7,
   "id": "dbf860ce",
   "metadata": {},
   "outputs": [],
   "source": [
    "from bs4 import BeautifulSoup"
   ]
  },
  {
   "cell_type": "code",
   "execution_count": 9,
   "id": "c5baa12b",
   "metadata": {
    "scrolled": true
   },
   "outputs": [
    {
     "name": "stdout",
     "output_type": "stream",
     "text": [
      "<p>test</p>\n",
      "<html><body><p>test</p></body></html>\n"
     ]
    }
   ],
   "source": [
    "html = '''<p>test</p>'''\n",
    "\n",
    "print(html)\n",
    "\n",
    "soup = BeautifulSoup(html, 'lxml')\n",
    "\n",
    "# lxml은 html, body가 포함된 HTML 기본 형태로 만들어 준다.\n",
    "print(soup)"
   ]
  },
  {
   "cell_type": "code",
   "execution_count": 10,
   "id": "039073bc",
   "metadata": {},
   "outputs": [
    {
     "name": "stdout",
     "output_type": "stream",
     "text": [
      "<html><body><p>test</p></body></html>\n",
      "-------------------------------------------\n",
      "<html><body><p>test</p></body></html>\n"
     ]
    }
   ],
   "source": [
    "html1 = '''<html><p>test</p></html>'''\n",
    "\n",
    "html2 = '''<body><p>test</p></body>'''\n",
    "\n",
    "soup1 = BeautifulSoup(html1, 'lxml')\n",
    "print(soup1)\n",
    "\n",
    "print('-------------------------------------------')\n",
    "soup2 = BeautifulSoup(html2, 'lxml')\n",
    "print(soup2)"
   ]
  },
  {
   "cell_type": "code",
   "execution_count": 11,
   "id": "0b70a230",
   "metadata": {},
   "outputs": [
    {
     "name": "stdout",
     "output_type": "stream",
     "text": [
      "<p>test</p>\n",
      "<html><head></head><body><p>test</p></body></html>\n"
     ]
    }
   ],
   "source": [
    "html = '''<p>test</p>'''\n",
    "\n",
    "print(html)\n",
    "\n",
    "soup = BeautifulSoup(html, 'html5lib')\n",
    "\n",
    "# html5lib는 웹 브라우저처럼 해석하므로 html, head, body가 포함된 HTML 기본 형태로 만들어 준다.\n",
    "print(soup)"
   ]
  },
  {
   "cell_type": "code",
   "execution_count": 12,
   "id": "d0edeae5",
   "metadata": {},
   "outputs": [
    {
     "name": "stdout",
     "output_type": "stream",
     "text": [
      "<p>test</p>\n",
      "<p>test</p>\n"
     ]
    }
   ],
   "source": [
    "html = '''<p>test</p>'''\n",
    "\n",
    "print(html)\n",
    "\n",
    "soup = BeautifulSoup(html, 'html.parser')\n",
    "\n",
    "# html.parser는 버전에 따라 (특히 최신 버전일 경우) 잘 동작하지 않을 수 있음\n",
    "print(soup)"
   ]
  },
  {
   "cell_type": "code",
   "execution_count": 23,
   "id": "1fc3dd4f",
   "metadata": {},
   "outputs": [
    {
     "name": "stdout",
     "output_type": "stream",
     "text": [
      "lxml parser 수행 시간 : 0.001001\n"
     ]
    }
   ],
   "source": [
    "import time\n",
    "\n",
    "html = '''<html><head></head><body><p>test</p></body></html>'''\n",
    "\n",
    "sTime = time.time()\n",
    "BeautifulSoup(html, 'lxml')\n",
    "lxml_eTime = time.time() - sTime\n",
    "\n",
    "print('lxml parser 수행 시간 : %f'%(lxml_eTime))\n"
   ]
  },
  {
   "cell_type": "markdown",
   "id": "ce71cfc0",
   "metadata": {},
   "source": [
    "import time\n",
    "\n",
    "html = '''<html><head></head><body><p>test</p></body></html>'''\n",
    "\n",
    "sTime = time.time()\n",
    "BeautifulSoup(html, 'html5lib')\n",
    "html5_eTime = time.time() - sTime\n",
    "\n",
    "print('html5lib parser 수행 시간 : %f'%(html5_eTime))"
   ]
  },
  {
   "cell_type": "markdown",
   "id": "d64333dc",
   "metadata": {},
   "source": [
    "# BeautifulSoup 사용"
   ]
  },
  {
   "cell_type": "code",
   "execution_count": 25,
   "id": "cf65847e",
   "metadata": {},
   "outputs": [],
   "source": [
    "from bs4 import BeautifulSoup"
   ]
  },
  {
   "cell_type": "code",
   "execution_count": 26,
   "id": "4be00e59",
   "metadata": {},
   "outputs": [
    {
     "name": "stdout",
     "output_type": "stream",
     "text": [
      "<html><head></head><body><p>test</p></body></html>\n",
      "<class 'bs4.BeautifulSoup'>\n"
     ]
    }
   ],
   "source": [
    "html = '''<html><head></head><body><p>test</p></body></html>'''\n",
    "\n",
    "soup = BeautifulSoup(html, 'lxml')\n",
    "\n",
    "# BeautifulSoup 클래스를 통해 파싱된 데이터는 보통 soup이라고 표현. 그래서 관례적으로 변수도 soup이라고 사용\n",
    "print(soup)\n",
    "print(type(soup))"
   ]
  },
  {
   "cell_type": "code",
   "execution_count": 30,
   "id": "a5799988",
   "metadata": {
    "collapsed": true
   },
   "outputs": [
    {
     "name": "stdout",
     "output_type": "stream",
     "text": [
      "<html><head></head><body><p>test site</p><p>test1</p><p>test2</p><p>test3</p></body></html>\n",
      "<html>\n",
      " <head>\n",
      " </head>\n",
      " <body>\n",
      "  <p>\n",
      "   test site\n",
      "  </p>\n",
      "  <p>\n",
      "   test1\n",
      "  </p>\n",
      "  <p>\n",
      "   test2\n",
      "  </p>\n",
      "  <p>\n",
      "   test3\n",
      "  </p>\n",
      " </body>\n",
      "</html>\n"
     ]
    }
   ],
   "source": [
    "html = '''<html><head><title>test site</title></head><body><p>test1</p><p>test2</p><p>test3</p></body></html>'''\n",
    "\n",
    "soup = BeautifulSoup(html, 'lxml')\n",
    "\n",
    "print(soup)\n",
    "print(soup.prettify())     # prettify() : 들여쓰기 효과"
   ]
  },
  {
   "cell_type": "code",
   "execution_count": 33,
   "id": "b8e4771e",
   "metadata": {},
   "outputs": [
    {
     "name": "stdout",
     "output_type": "stream",
     "text": [
      "<p>test1</p>\n",
      "<class 'bs4.BeautifulSoup'>  :  <class 'bs4.element.Tag'>\n"
     ]
    }
   ],
   "source": [
    "html = '''<html><head><title>test site</title></head><body><p>test1</p><p>test2</p><p>test3</p></body></html>'''\n",
    "\n",
    "soup = BeautifulSoup(html, 'lxml')\n",
    "tag_p = soup.p\n",
    "\n",
    "print(tag_p)         # 같은 이름의 태그가 여러 개일 경우 첫번째 태그 정보만 가져오고 있음에 유의\n",
    "print(type(soup), ' : ', type(tag_p))\n",
    "\n",
    "# bs4.BeautifulSoup type : 문서 전체\n",
    "# bs4.element.Tag type : 각각의 태그"
   ]
  },
  {
   "cell_type": "code",
   "execution_count": 36,
   "id": "2e2658a9",
   "metadata": {},
   "outputs": [
    {
     "name": "stdout",
     "output_type": "stream",
     "text": [
      "test site\n",
      "test site\n",
      "title\n"
     ]
    }
   ],
   "source": [
    "# title 정보만 추출\n",
    "tag_title = soup.title\n",
    "\n",
    "print(tag_title.text)\n",
    "print(tag_title.string)\n",
    "print(tag_title.name)"
   ]
  },
  {
   "cell_type": "code",
   "execution_count": 42,
   "id": "2c1b2dca",
   "metadata": {},
   "outputs": [
    {
     "name": "stdout",
     "output_type": "stream",
     "text": [
      "{'class': ['t'], 'id': 'ti'}\n",
      "['t']\n",
      "ti\n",
      "-------------------------------\n",
      "{'class': ['t'], 'id': 'ti'}\n",
      "['t']\n",
      "ti\n",
      "None\n",
      "alternative\n"
     ]
    }
   ],
   "source": [
    "html = '''<html><head><title class=\"t\" id=\"ti\">test site</title></head><body><p>test1</p><p>test2</p><p>test3</p></body></html>'''\n",
    "\n",
    "soup = BeautifulSoup(html, 'lxml')\n",
    "tag_title = soup.title\n",
    "\n",
    "# 태그에서 속성을 추출\n",
    "print(tag_title.attrs)      # attrs : 해당 요소의 속성을 추출 - 딕셔너리 형태로 return\n",
    "print(tag_title['class'])\n",
    "print(tag_title['id'])\n",
    "\n",
    "# print(tag_title['wow'])        # 없는 요소 (없는 key)를 추출하면 에러가 발생함에 유의 -> get()로 추출하는것을 권장\n",
    "\n",
    "print('-------------------------------')\n",
    "# 태그에서 속성을 추출하는 메소드\n",
    "print(tag_title.attrs)\n",
    "print(tag_title.get('class'))\n",
    "print(tag_title.get('id'))\n",
    "print(tag_title.get('wow'))   \n",
    "print(tag_title.get('wow', 'alternative'))   "
   ]
  },
  {
   "cell_type": "code",
   "execution_count": 43,
   "id": "053c9897",
   "metadata": {},
   "outputs": [
    {
     "name": "stdout",
     "output_type": "stream",
     "text": [
      "text :  test site - <class 'str'>\n",
      "str :  test site - <class 'bs4.element.NavigableString'>\n"
     ]
    }
   ],
   "source": [
    "html = '''\n",
    "        <html>\n",
    "        <head>\n",
    "        <title class=\"t\" id=\"ti\">test site</title>\n",
    "        </head>\n",
    "        <body>\n",
    "            <p>test1</p>\n",
    "            <p>test2</p>\n",
    "            <p>test3</p>\n",
    "        </body>\n",
    "        </html>'''\n",
    "\n",
    "soup = BeautifulSoup(html, 'lxml')\n",
    "tag_title = soup.title\n",
    "\n",
    "title_text = tag_title.text\n",
    "title_str = tag_title.string\n",
    "\n",
    "print('text : ', title_text, '-' ,type(title_text))\n",
    "print('str : ', title_str, '-' ,type(title_str))"
   ]
  },
  {
   "cell_type": "code",
   "execution_count": 56,
   "id": "cc8a70f7",
   "metadata": {},
   "outputs": [
    {
     "name": "stdout",
     "output_type": "stream",
     "text": [
      "text :  test0test1  -  <class 'str'>\n",
      "string :  None  -  <class 'NoneType'>\n",
      "string :  test1  -  <class 'bs4.element.NavigableString'>\n"
     ]
    },
    {
     "data": {
      "text/plain": [
       "'\\n# text는 하위 태그 있는 문자열도 모두 추출해 줌\\n# string은 선택한 태그의 문자열만 추출해 줌. 즉, 정확히 추출하고 싶다면 가장 자식 요소를 선택해줘야 함\\n'"
      ]
     },
     "execution_count": 56,
     "metadata": {},
     "output_type": "execute_result"
    }
   ],
   "source": [
    "html = '''\n",
    "        <html>\n",
    "        <head>\n",
    "        <title class=\"t\" id=\"ti\">test site</title>\n",
    "        </head>\n",
    "        <body>\n",
    "            <p>test0<span>test1</span></p>\n",
    "            <p>test2</p>\n",
    "            <p>test3</p>\n",
    "        </body>\n",
    "        </html>'''\n",
    "\n",
    "soup = BeautifulSoup(html, 'lxml')\n",
    "tag_p = soup.p\n",
    "\n",
    "p_text = tag_p.text\n",
    "p_str = tag_p.string\n",
    "span_str = tag_p.span.string\n",
    "\n",
    "print('text : ', p_text, ' - ', type(p_text))\n",
    "print('string : ', p_str, ' - ', type(p_str))\n",
    "print('string : ', span_str, ' - ', type(span_str))\n",
    "\n",
    "'''\n",
    "# text는 하위 태그 있는 문자열도 모두 추출해 줌\n",
    "# string은 선택한 태그의 문자열만 추출해 줌. 즉, 정확히 추출하고 싶다면 가장 자식 요소를 선택해줘야 함\n",
    "'''"
   ]
  },
  {
   "cell_type": "code",
   "execution_count": 45,
   "id": "9f859135",
   "metadata": {},
   "outputs": [],
   "source": [
    "from bs4 import BeautifulSoup"
   ]
  },
  {
   "cell_type": "code",
   "execution_count": 68,
   "id": "b192c744",
   "metadata": {},
   "outputs": [
    {
     "name": "stdout",
     "output_type": "stream",
     "text": [
      "['test1']\n"
     ]
    }
   ],
   "source": [
    "html = '''<html><head></head><body><p>test1</p><p>test2</p><p>test3</p></body></html>'''\n",
    "\n",
    "soup = BeautifulSoup(html, 'lxml')\n",
    "\n",
    "tag_p = soup.p.contents   # contents는 list return\n",
    "\n",
    "print(tag_p)"
   ]
  },
  {
   "cell_type": "code",
   "execution_count": 69,
   "id": "91b3c28d",
   "metadata": {},
   "outputs": [
    {
     "name": "stdout",
     "output_type": "stream",
     "text": [
      "<list_iterator object at 0x00000210A9E2CBE0>\n",
      "test1\n"
     ]
    }
   ],
   "source": [
    "tag_p = soup.p.children   # children은 iterator object로 return -> 반복문으로 출력 children은 iterator object로 return -> 반복문으로 출력\n",
    "print(tag_p)\n",
    "\n",
    "for child in tag_p:\n",
    "    print(child)"
   ]
  },
  {
   "cell_type": "code",
   "execution_count": 79,
   "id": "6da05805",
   "metadata": {},
   "outputs": [],
   "source": [
    "html = '''<html><head><title class=\"t\" id=\"ti\">test site</title></head><body><p><span>test0</span><span>test1</span></p><p>test2</p><p>test3</p></body></html>'''\n",
    "\n",
    "soup = BeautifulSoup(html, 'lxml')"
   ]
  },
  {
   "cell_type": "code",
   "execution_count": 80,
   "id": "b3678baf",
   "metadata": {},
   "outputs": [],
   "source": [
    "tag_span = soup.span\n",
    "tag_title = soup.title\n",
    "\n",
    "span_parent = tag_span.parent\n",
    "title_parent = tag_title.parent"
   ]
  },
  {
   "cell_type": "code",
   "execution_count": 81,
   "id": "ded967b8",
   "metadata": {},
   "outputs": [
    {
     "name": "stdout",
     "output_type": "stream",
     "text": [
      "------- 기준 태그 --------\n",
      "<span>test0</span>\n",
      "<title class=\"t\" id=\"ti\">test site</title>\n",
      "------- 부모 태그 ---------\n",
      "<p><span>test0</span><span>test1</span></p>\n",
      "<head><title class=\"t\" id=\"ti\">test site</title></head>\n"
     ]
    }
   ],
   "source": [
    "print('------- 기준 태그 --------')\n",
    "\n",
    "print(tag_span)\n",
    "print(tag_title)\n",
    "\n",
    "print('------- 부모 태그 ---------')\n",
    "print(span_parent)\n",
    "print(title_parent)\n",
    "\n",
    "# parent 호출 시 기준이 되는 자식도 포함되어 있음을 유의"
   ]
  },
  {
   "cell_type": "code",
   "execution_count": 82,
   "id": "6fb2f025",
   "metadata": {},
   "outputs": [],
   "source": [
    "tag_span = soup.span\n",
    "tag_title = soup.title\n",
    "\n",
    "span_parents = tag_span.parents\n",
    "title_parents = tag_title.parents"
   ]
  },
  {
   "cell_type": "code",
   "execution_count": 83,
   "id": "9f7ad8f7",
   "metadata": {},
   "outputs": [
    {
     "name": "stdout",
     "output_type": "stream",
     "text": [
      "-----기준 태그-----\n",
      "<span>test0</span>\n",
      "<title class=\"t\" id=\"ti\">test site</title>\n",
      "-----부모 태그-----\n",
      "<generator object PageElement.parents at 0x00000210A9EB1040>\n",
      "<generator object PageElement.parents at 0x00000210A9E99430>\n"
     ]
    }
   ],
   "source": [
    "print('-----기준 태그-----')\n",
    "\n",
    "print(tag_span)\n",
    "print(tag_title)\n",
    "\n",
    "print('-----부모 태그-----')\n",
    "print(span_parents)\n",
    "print(title_parents)"
   ]
  },
  {
   "cell_type": "code",
   "execution_count": 84,
   "id": "e99f6c94",
   "metadata": {},
   "outputs": [
    {
     "name": "stdout",
     "output_type": "stream",
     "text": [
      "<p><span>test0</span><span>test1</span></p>\n",
      "<body><p><span>test0</span><span>test1</span></p><p>test2</p><p>test3</p></body>\n",
      "<html><head><title class=\"t\" id=\"ti\">test site</title></head><body><p><span>test0</span><span>test1</span></p><p>test2</p><p>test3</p></body></html>\n",
      "<html><head><title class=\"t\" id=\"ti\">test site</title></head><body><p><span>test0</span><span>test1</span></p><p>test2</p><p>test3</p></body></html>\n"
     ]
    }
   ],
   "source": [
    "# parents 출력\n",
    "for i in span_parents:\n",
    "    print(i)"
   ]
  },
  {
   "cell_type": "code",
   "execution_count": 85,
   "id": "b1bc8c0c",
   "metadata": {},
   "outputs": [
    {
     "name": "stdout",
     "output_type": "stream",
     "text": [
      "<head><title class=\"t\" id=\"ti\">test site</title></head>\n",
      "<html><head><title class=\"t\" id=\"ti\">test site</title></head><body><p><span>test0</span><span>test1</span></p><p>test2</p><p>test3</p></body></html>\n",
      "<html><head><title class=\"t\" id=\"ti\">test site</title></head><body><p><span>test0</span><span>test1</span></p><p>test2</p><p>test3</p></body></html>\n"
     ]
    }
   ],
   "source": [
    "for i in title_parents:\n",
    "    print(i)"
   ]
  },
  {
   "cell_type": "code",
   "execution_count": 86,
   "id": "eac80654",
   "metadata": {},
   "outputs": [
    {
     "name": "stdout",
     "output_type": "stream",
     "text": [
      "<span>test1</span>\n"
     ]
    }
   ],
   "source": [
    "# 형제 인식\n",
    "tag_span = soup.span\n",
    "\n",
    "next_time = tag_span.next_sibling       # next_sibling : 다음 형제 찾기\n",
    "\n",
    "print(next_time)\n"
   ]
  },
  {
   "cell_type": "code",
   "execution_count": 87,
   "id": "d459d82a",
   "metadata": {},
   "outputs": [
    {
     "name": "stdout",
     "output_type": "stream",
     "text": [
      "<span>test0</span>\n"
     ]
    }
   ],
   "source": [
    "back = next_time.previous_sibling       # previous_sibling : 이전 형제 찾기\n",
    "print(back)"
   ]
  },
  {
   "cell_type": "code",
   "execution_count": 88,
   "id": "abe3400f",
   "metadata": {},
   "outputs": [
    {
     "name": "stdout",
     "output_type": "stream",
     "text": [
      "None\n"
     ]
    }
   ],
   "source": [
    "back2 = back.previous_sibling           # 형제가 없으면 None return ( 다음/이전 마찬가지)\n",
    "print(back2)"
   ]
  },
  {
   "cell_type": "code",
   "execution_count": 89,
   "id": "63ca50b9",
   "metadata": {},
   "outputs": [
    {
     "name": "stdout",
     "output_type": "stream",
     "text": [
      "<generator object PageElement.next_siblings at 0x00000210A98A0900>\n"
     ]
    }
   ],
   "source": [
    "# sibling도 's'를 붙여서 사용 가능함\n",
    "tag_spans = soup.span\n",
    "\n",
    "next_times = tag_spans.next_siblings\n",
    "\n",
    "print(next_times)"
   ]
  },
  {
   "cell_type": "code",
   "execution_count": 90,
   "id": "05acfbc6",
   "metadata": {},
   "outputs": [
    {
     "name": "stdout",
     "output_type": "stream",
     "text": [
      "<span>test1</span>\n"
     ]
    }
   ],
   "source": [
    "for i in next_times:\n",
    "    print(i)"
   ]
  },
  {
   "cell_type": "code",
   "execution_count": null,
   "id": "463c7c6f",
   "metadata": {},
   "outputs": [],
   "source": [
    "# 형제 접근과 비슷한 기능 : 요소 접근 - next_elements"
   ]
  },
  {
   "cell_type": "code",
   "execution_count": 91,
   "id": "de65f705",
   "metadata": {},
   "outputs": [
    {
     "name": "stdout",
     "output_type": "stream",
     "text": [
      "<generator object PageElement.next_elements at 0x00000210A92AE270>\n"
     ]
    }
   ],
   "source": [
    "tag_span = soup.span\n",
    "\n",
    "tag_elements = tag_span.next_elements\n",
    "\n",
    "'''\n",
    "# 요소 접근 : 태그도 포함하면서 태그 안에 들어있는 자식, 문자도 모두 포함\n",
    "'''\n",
    "\n",
    "print(tag_elements)"
   ]
  },
  {
   "cell_type": "code",
   "execution_count": 92,
   "id": "8d67123c",
   "metadata": {},
   "outputs": [
    {
     "name": "stdout",
     "output_type": "stream",
     "text": [
      "<html>\n",
      " <head>\n",
      "  <title class=\"t\" id=\"ti\">\n",
      "   test site\n",
      "  </title>\n",
      " </head>\n",
      " <body>\n",
      "  <p>\n",
      "   <span>\n",
      "    test0\n",
      "   </span>\n",
      "   <span>\n",
      "    test1\n",
      "   </span>\n",
      "  </p>\n",
      "  <p>\n",
      "   test2\n",
      "  </p>\n",
      "  <p>\n",
      "   test3\n",
      "  </p>\n",
      " </body>\n",
      "</html>\n",
      "----------------------\n",
      "test0\n",
      "<span>test1</span>\n",
      "test1\n",
      "<p>test2</p>\n",
      "test2\n",
      "<p>test3</p>\n",
      "test3\n"
     ]
    }
   ],
   "source": [
    "print(soup.prettify())\n",
    "print('----------------------')\n",
    "for i in tag_elements:\n",
    "    print(i)\n"
   ]
  },
  {
   "cell_type": "code",
   "execution_count": 93,
   "id": "f8c6b4d9",
   "metadata": {},
   "outputs": [],
   "source": [
    "from bs4 import NavigableString, Tag"
   ]
  },
  {
   "cell_type": "code",
   "execution_count": 94,
   "id": "ac5f5a88",
   "metadata": {},
   "outputs": [
    {
     "name": "stdout",
     "output_type": "stream",
     "text": [
      "element  ---  NavigableString  ---  Tag\n",
      "<span>test0</span>  ---  False  ---  True\n",
      "element  ---  NavigableString  ---  Tag\n",
      "test0  ---  True  ---  False\n",
      "element  ---  NavigableString  ---  Tag\n",
      "<span>test1</span>  ---  False  ---  True\n",
      "element  ---  NavigableString  ---  Tag\n",
      "test1  ---  True  ---  False\n",
      "element  ---  NavigableString  ---  Tag\n",
      "<p>test2</p>  ---  False  ---  True\n",
      "element  ---  NavigableString  ---  Tag\n",
      "test2  ---  True  ---  False\n",
      "element  ---  NavigableString  ---  Tag\n",
      "<p>test3</p>  ---  False  ---  True\n",
      "element  ---  NavigableString  ---  Tag\n",
      "test3  ---  True  ---  False\n"
     ]
    }
   ],
   "source": [
    "tag_p_nexts = soup.p.next_elements\n",
    "\n",
    "for i in tag_p_nexts:\n",
    "    print('element', ' --- ', 'NavigableString', ' --- ', 'Tag')\n",
    "    print(i, ' --- ', type(i) == NavigableString, ' --- ', type(i) == Tag)"
   ]
  },
  {
   "cell_type": "code",
   "execution_count": null,
   "id": "c3787a27",
   "metadata": {},
   "outputs": [],
   "source": []
  }
 ],
 "metadata": {
  "kernelspec": {
   "display_name": "Python 3",
   "language": "python",
   "name": "python3"
  },
  "language_info": {
   "codemirror_mode": {
    "name": "ipython",
    "version": 3
   },
   "file_extension": ".py",
   "mimetype": "text/x-python",
   "name": "python",
   "nbconvert_exporter": "python",
   "pygments_lexer": "ipython3",
   "version": "3.8.8"
  }
 },
 "nbformat": 4,
 "nbformat_minor": 5
}
