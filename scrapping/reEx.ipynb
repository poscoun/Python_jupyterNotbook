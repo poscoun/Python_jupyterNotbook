{
 "cells": [
  {
   "cell_type": "code",
   "execution_count": null,
   "id": "da9588fa",
   "metadata": {},
   "outputs": [],
   "source": [
    "'''\n",
    "# 정규표현식(Regular Expression)\n",
    "#  : 특정한 패턴과 일치하는 문자열을 검색, 치환, 제거하는 기능\n",
    "'''"
   ]
  },
  {
   "cell_type": "code",
   "execution_count": 1,
   "id": "1b8eec08",
   "metadata": {},
   "outputs": [],
   "source": [
    "import re"
   ]
  },
  {
   "cell_type": "code",
   "execution_count": 13,
   "id": "8e4b9d0b",
   "metadata": {},
   "outputs": [],
   "source": [
    "test = 'test t1sd e test1'"
   ]
  },
  {
   "cell_type": "code",
   "execution_count": 14,
   "id": "cf6bca4e",
   "metadata": {},
   "outputs": [],
   "source": [
    "pattern = re.compile('test')   # complie() : 특정 패턴 저장"
   ]
  },
  {
   "cell_type": "code",
   "execution_count": 15,
   "id": "2048d13c",
   "metadata": {},
   "outputs": [],
   "source": [
    "result1 = pattern.match(test)   # match() : 문자열의 처음부터 시작하여 패턴이 일치하는 것이 있는지 확인\n",
    "result2 = pattern.search(test)   # seach() : 반드시 문자열의 처음부터 일치하는 것은 아님\n",
    "result3 = pattern.findall(test)   # findall() : 문자열 중 패턴과 일치하는 모든 부분을 찾기. list로 return\n",
    "result4 = pattern.finditer(test)   # finditer() : findall과 같음. object로 return"
   ]
  },
  {
   "cell_type": "code",
   "execution_count": 8,
   "id": "81faaeaf",
   "metadata": {},
   "outputs": [
    {
     "name": "stdout",
     "output_type": "stream",
     "text": [
      "<re.Match object; span=(0, 4), match='test'>\n",
      "<re.Match object; span=(0, 4), match='test'>\n",
      "['test', 'test']\n",
      "<callable_iterator object at 0x000002E4F19BCBE0>\n"
     ]
    }
   ],
   "source": [
    "print(result1)\n",
    "print(result2)\n",
    "print(result3)\n",
    "print(result4)"
   ]
  },
  {
   "cell_type": "code",
   "execution_count": 9,
   "id": "9d9d1dcd",
   "metadata": {},
   "outputs": [
    {
     "name": "stdout",
     "output_type": "stream",
     "text": [
      "test 0 4 (0, 4)\n"
     ]
    }
   ],
   "source": [
    "# Match object 의 메소드\n",
    "# group() : 일치한 문자열을 반환\n",
    "# start() : 일치된 문자열의 시작 위치를 반환\n",
    "# end() : 일치된 문자열의 끝 위치를 반환\n",
    "# span() : 일치된 문자열의 시작, 끝 위치를 튜플로 반환\n",
    "print(result1.group(), result1.start(), result1.end(), result1.span())"
   ]
  },
  {
   "cell_type": "code",
   "execution_count": 16,
   "id": "b8bd83e7",
   "metadata": {},
   "outputs": [
    {
     "name": "stdout",
     "output_type": "stream",
     "text": [
      "<re.Match object; span=(0, 4), match='test'>\n",
      "test 0 4 (0, 4)\n",
      "<re.Match object; span=(12, 16), match='test'>\n",
      "test 12 16 (12, 16)\n"
     ]
    }
   ],
   "source": [
    "for i in result4:\n",
    "    print(i)\n",
    "    print(i.group(), i.start(), i.end(), i.span())"
   ]
  },
  {
   "cell_type": "code",
   "execution_count": 20,
   "id": "bb7ff0bd",
   "metadata": {},
   "outputs": [],
   "source": [
    "from bs4 import BeautifulSoup\n",
    "import re\n",
    "\n",
    "html = '''<html><head><title class=\"t\" id=\"ti\">test site</title></head><body><div><p><span>test1</span><span>test1_2</span></p><p id=\"d\" class=\"a\">test2</p></div><p class=\"bbb\">test3</p><a>a tag1</a><a>a tag2</a></body></html>'''\n",
    "\n",
    "soup = BeautifulSoup(html, 'lxml')"
   ]
  },
  {
   "cell_type": "code",
   "execution_count": 24,
   "id": "fca6b15d",
   "metadata": {},
   "outputs": [
    {
     "name": "stdout",
     "output_type": "stream",
     "text": [
      "[<p class=\"bbb\">test3</p>]\n",
      "[<title class=\"t\" id=\"ti\">test site</title>]\n",
      "[<html><head><title class=\"t\" id=\"ti\">test site</title></head><body><div><p><span>test1</span><span>test1_2</span></p><p class=\"a\" id=\"d\">test2</p></div><p class=\"bbb\">test3</p><a>a tag1</a><a>a tag2</a></body></html>, <title class=\"t\" id=\"ti\">test site</title>]\n",
      "[<title class=\"t\" id=\"ti\">test site</title>]\n"
     ]
    }
   ],
   "source": [
    "print(soup.find_all(class_=re.compile('b')))\n",
    "print(soup.find_all(id=re.compile('t')))\n",
    "print(soup.find_all(re.compile('t')))\n",
    "print(soup.find_all(re.compile('^t')))   # ^ : 시작"
   ]
  },
  {
   "cell_type": "code",
   "execution_count": 25,
   "id": "83a4d6d3",
   "metadata": {},
   "outputs": [],
   "source": [
    "# 기본 패턴\n",
    "str = \"\"\"I am Hong Gil-Dong. I live in Pyeongyang.\n",
    "I lived in Pyeongyang for 20 years.\n",
    "Sample text for testing:\n",
    "abcdefghijklmnopqrsAvwxyz ABCDEFGHIJKLMNOPQRSTUVWXYZ\n",
    "0123456789 _+-.,!@#$%^&*();\\/|<>\"'\n",
    "12345 -98.7 3.141 .6180 9,000 +42\"\"\""
   ]
  },
  {
   "cell_type": "code",
   "execution_count": 27,
   "id": "9f1b3f1d",
   "metadata": {},
   "outputs": [
    {
     "name": "stdout",
     "output_type": "stream",
     "text": [
      "['a', 'm', 'o', 'n', 'g', 'i', 'l', 'o', 'n', 'g', 'l', 'i', 'v', 'e', 'i', 'n', 'y', 'e', 'o', 'n', 'g', 'y', 'a', 'n', 'g', 'l', 'i', 'v', 'e', 'd', 'i', 'n', 'y', 'e', 'o', 'n', 'g', 'y', 'a', 'n', 'g', 'f', 'o', 'r', 'y', 'e', 'a', 'r', 's', 'a', 'm', 'p', 'l', 'e', 't', 'e', 'x', 't', 'f', 'o', 'r', 't', 'e', 's', 't', 'i', 'n', 'g', 'a', 'b', 'c', 'd', 'e', 'f', 'g', 'h', 'i', 'j', 'k', 'l', 'm', 'n', 'o', 'p', 'q', 'r', 's', 'v', 'w', 'x', 'y', 'z']\n"
     ]
    }
   ],
   "source": [
    "pattern = re.compile('[a-z]')\n",
    "\n",
    "print(pattern.findall(str))"
   ]
  },
  {
   "cell_type": "code",
   "execution_count": 28,
   "id": "28ed94f2",
   "metadata": {},
   "outputs": [
    {
     "name": "stdout",
     "output_type": "stream",
     "text": [
      "['I', 'H', 'G', 'D', 'I', 'P', 'I', 'P', 'S', 'A', 'A', 'B', 'C', 'D', 'E', 'F', 'G', 'H', 'I', 'J', 'K', 'L', 'M', 'N', 'O', 'P', 'Q', 'R', 'S', 'T', 'U', 'V', 'W', 'X', 'Y', 'Z']\n"
     ]
    }
   ],
   "source": [
    "pattern = re.compile('[A-Z]')\n",
    "\n",
    "print(pattern.findall(str))"
   ]
  },
  {
   "cell_type": "code",
   "execution_count": 29,
   "id": "f689658b",
   "metadata": {},
   "outputs": [
    {
     "name": "stdout",
     "output_type": "stream",
     "text": [
      "['I', 'a', 'm', 'H', 'o', 'n', 'g', 'G', 'i', 'l', 'D', 'o', 'n', 'g', 'I', 'l', 'i', 'v', 'e', 'i', 'n', 'P', 'y', 'e', 'o', 'n', 'g', 'y', 'a', 'n', 'g', 'I', 'l', 'i', 'v', 'e', 'd', 'i', 'n', 'P', 'y', 'e', 'o', 'n', 'g', 'y', 'a', 'n', 'g', 'f', 'o', 'r', 'y', 'e', 'a', 'r', 's', 'S', 'a', 'm', 'p', 'l', 'e', 't', 'e', 'x', 't', 'f', 'o', 'r', 't', 'e', 's', 't', 'i', 'n', 'g', 'a', 'b', 'c', 'd', 'e', 'f', 'g', 'h', 'i', 'j', 'k', 'l', 'm', 'n', 'o', 'p', 'q', 'r', 's', 'A', 'v', 'w', 'x', 'y', 'z', 'A', 'B', 'C', 'D', 'E', 'F', 'G', 'H', 'I', 'J', 'K', 'L', 'M', 'N', 'O', 'P', 'Q', 'R', 'S', 'T', 'U', 'V', 'W', 'X', 'Y', 'Z']\n"
     ]
    }
   ],
   "source": [
    "pattern = re.compile('[a-zA-Z]')\n",
    "\n",
    "print(pattern.findall(str))"
   ]
  },
  {
   "cell_type": "code",
   "execution_count": 30,
   "id": "2b118162",
   "metadata": {},
   "outputs": [
    {
     "name": "stdout",
     "output_type": "stream",
     "text": [
      "['am', 'ong', 'il', 'ong', 'live', 'in', 'yeongyang', 'lived', 'in', 'yeongyang', 'for', 'years', 'ample', 'text', 'for', 'testing', 'abcdefghijklmnopqrs', 'vwxyz']\n"
     ]
    }
   ],
   "source": [
    "pattern = re.compile('[a-z]+')\n",
    "\n",
    "print(pattern.findall(str))"
   ]
  },
  {
   "cell_type": "code",
   "execution_count": 31,
   "id": "7a5e6135",
   "metadata": {},
   "outputs": [
    {
     "name": "stdout",
     "output_type": "stream",
     "text": [
      "['2', '0', '0', '1', '2', '3', '4', '5', '6', '7', '8', '9', '1', '2', '3', '4', '5', '9', '8', '7', '3', '1', '4', '1', '6', '1', '8', '0', '9', '0', '0', '0', '4', '2']\n"
     ]
    }
   ],
   "source": [
    "pattern = re.compile('[0-9]')\n",
    "\n",
    "print(pattern.findall(str))"
   ]
  },
  {
   "cell_type": "code",
   "execution_count": 32,
   "id": "04ddd864",
   "metadata": {},
   "outputs": [
    {
     "name": "stdout",
     "output_type": "stream",
     "text": [
      "['20', '0123456789', '12345', '98', '7', '3', '141', '6180', '9', '000', '42']\n"
     ]
    }
   ],
   "source": [
    "pattern = re.compile('[0-9]+')\n",
    "\n",
    "print(pattern.findall(str))"
   ]
  },
  {
   "cell_type": "code",
   "execution_count": 33,
   "id": "b3d08180",
   "metadata": {},
   "outputs": [],
   "source": [
    "mp = 'my phone number is 010-1111-2222'"
   ]
  },
  {
   "cell_type": "code",
   "execution_count": 34,
   "id": "07b7b356",
   "metadata": {
    "scrolled": true
   },
   "outputs": [
    {
     "name": "stdout",
     "output_type": "stream",
     "text": [
      "['010', '1111', '2222']\n"
     ]
    }
   ],
   "source": [
    "# 전화번호를 추출\n",
    "pattern = re.compile('[0-9]+')\n",
    "print(pattern.findall(mp))"
   ]
  },
  {
   "cell_type": "code",
   "execution_count": 38,
   "id": "10db074a",
   "metadata": {
    "scrolled": true
   },
   "outputs": [
    {
     "name": "stdout",
     "output_type": "stream",
     "text": [
      "['010-1111-2222']\n"
     ]
    }
   ],
   "source": [
    "# pattern = re.compile('[0-9][0-9][0-9]-[0-9][0-9][0-9][0-9]-[0-9][0-9][0-9][0-9]')\n",
    "# pattern = re.compile('\\d\\d\\d-\\d\\d\\d\\d-\\d\\d\\d\\d')\n",
    "pattern = re.compile('\\d{3}-\\d{4}-\\d{4}')\n",
    "print(pattern.findall(mp))"
   ]
  },
  {
   "cell_type": "code",
   "execution_count": 39,
   "id": "df2f32cb",
   "metadata": {},
   "outputs": [],
   "source": [
    "str = \"\"\"I am Hong Gil-Dong. I live in Pyeongyang.\n",
    "I lived in Pyeongyang for 20 years.\n",
    "Sample text for testing:\n",
    "abcdefghijklmnopqrsAvwxyz ABCDEFGHIJKLMNOPQRSTUVWXYZ\n",
    "0123456789 _+-.,!@#$%^&*();\\/|<>\"'\n",
    "12345 -98.7 3.141 .6180 9,000 +42\"\"\""
   ]
  },
  {
   "cell_type": "code",
   "execution_count": 41,
   "id": "1f57ebd9",
   "metadata": {},
   "outputs": [
    {
     "name": "stdout",
     "output_type": "stream",
     "text": [
      "['I', 'am', 'Hong', 'Gil', 'Dong', 'I', 'live', 'in', 'Pyeongyang', 'I', 'lived', 'in', 'Pyeongyang', 'for', '20', 'years', 'Sample', 'text', 'for', 'testing', 'abcdefghijklmnopqrsAvwxyz', 'ABCDEFGHIJKLMNOPQRSTUVWXYZ', '0123456789', '12345', '98', '7', '3', '141', '6180', '9', '000', '42']\n"
     ]
    }
   ],
   "source": [
    "# 알파벳 전부, 숫자 전부 포함\n",
    "pattern = re.compile('[a-zA-Z0-9]+')\n",
    "\n",
    "print(pattern.findall(str))"
   ]
  },
  {
   "cell_type": "code",
   "execution_count": 42,
   "id": "4bd8531d",
   "metadata": {},
   "outputs": [
    {
     "name": "stdout",
     "output_type": "stream",
     "text": [
      "['I', 'am', 'Hong', 'Gil', 'Dong', 'I', 'live', 'in', 'Pyeongyang', 'I', 'lived', 'in', 'Pyeongyang', 'for', '20', 'years', 'Sample', 'text', 'for', 'testing', 'abcdefghijklmnopqrsAvwxyz', 'ABCDEFGHIJKLMNOPQRSTUVWXYZ', '0123456789', '_', '12345', '98', '7', '3', '141', '6180', '9', '000', '42']\n"
     ]
    }
   ],
   "source": [
    "pattern = re.compile('\\w+')\n",
    "\n",
    "print(pattern.findall(str))"
   ]
  },
  {
   "cell_type": "code",
   "execution_count": 43,
   "id": "16d8eda8",
   "metadata": {},
   "outputs": [
    {
     "name": "stdout",
     "output_type": "stream",
     "text": [
      "['I ', ' H', ' G', '-D', '. I ', ' ', ' P', '.\\nI ', ' ', ' P', ' ', ' 20 ', '.\\nS', ' ', ' ', ' ', ':\\n', 'A', ' ABCDEFGHIJKLMNOPQRSTUVWXYZ\\n0123456789 _+-.,!@#$%^&*();\\\\/|<>\"\\'\\n12345 -98.7 3.141 .6180 9,000 +42']\n"
     ]
    }
   ],
   "source": [
    "pattern = re.compile('[^a-z]+')  # [^a-z]: a-z까지 포함되지 않은 것\n",
    "\n",
    "print(pattern.findall(str))"
   ]
  },
  {
   "cell_type": "code",
   "execution_count": 44,
   "id": "2ccd3f1c",
   "metadata": {},
   "outputs": [
    {
     "name": "stdout",
     "output_type": "stream",
     "text": [
      "[' am ', 'ong ', 'il-', 'ong. ', ' live in ', 'yeongyang.\\n', ' lived in ', 'yeongyang for 20 years.\\n', 'ample text for testing:\\nabcdefghijklmnopqrs', 'vwxyz ', '\\n0123456789 _+-.,!@#$%^&*();\\\\/|<>\"\\'\\n12345 -98.7 3.141 .6180 9,000 +42']\n"
     ]
    }
   ],
   "source": [
    "pattern = re.compile('[^A-Z]+')  # [^A-Z]: A-Z까지 포함되지 않은 것\n",
    "\n",
    "print(pattern.findall(str))"
   ]
  },
  {
   "cell_type": "code",
   "execution_count": 45,
   "id": "b1e3ab82",
   "metadata": {},
   "outputs": [
    {
     "name": "stdout",
     "output_type": "stream",
     "text": [
      "['text', 'test']\n"
     ]
    }
   ],
   "source": [
    "# 글자수로 체크\n",
    "pattern = re.compile('t..t')  # . : 글자 하나\n",
    "print(pattern.findall(str))"
   ]
  },
  {
   "cell_type": "code",
   "execution_count": 46,
   "id": "25a9aa46",
   "metadata": {},
   "outputs": [
    {
     "name": "stdout",
     "output_type": "stream",
     "text": [
      "[]\n"
     ]
    }
   ],
   "source": [
    "pattern = re.compile('t...t')  # . : 글자 하나\n",
    "print(pattern.findall(str))"
   ]
  },
  {
   "cell_type": "code",
   "execution_count": 47,
   "id": "e028ab4e",
   "metadata": {},
   "outputs": [
    {
     "name": "stdout",
     "output_type": "stream",
     "text": [
      "['testing']\n"
     ]
    }
   ],
   "source": [
    "# 명확하지 않을 경우\n",
    "pattern = re.compile('t?est\\w+')   # test나 est로 시작하는 문자열 뒤에 \\w가 있어야 함\n",
    "print(pattern.findall(str))"
   ]
  },
  {
   "cell_type": "code",
   "execution_count": 48,
   "id": "143aaf55",
   "metadata": {},
   "outputs": [
    {
     "name": "stdout",
     "output_type": "stream",
     "text": [
      "['testing']\n"
     ]
    }
   ],
   "source": [
    "pattern = re.compile('t?est\\w*')   # test나 est로 시작하는 문자열 뒤에 \\w가 없어도 됨\n",
    "print(pattern.findall(str))"
   ]
  },
  {
   "cell_type": "code",
   "execution_count": null,
   "id": "a60f9640",
   "metadata": {},
   "outputs": [],
   "source": [
    "'''\n",
    "# \\s : 공백문자와 일치\n",
    "# \\t : tab\n",
    "# \\n : enter\n",
    "# \\r : return\n",
    "# $ : 문자열의 끝\n",
    "'''"
   ]
  },
  {
   "cell_type": "code",
   "execution_count": null,
   "id": "3f627fb0",
   "metadata": {},
   "outputs": [],
   "source": []
  },
  {
   "cell_type": "code",
   "execution_count": null,
   "id": "44ce51e7",
   "metadata": {},
   "outputs": [],
   "source": []
  },
  {
   "cell_type": "code",
   "execution_count": null,
   "id": "1174d791",
   "metadata": {},
   "outputs": [],
   "source": []
  },
  {
   "cell_type": "code",
   "execution_count": null,
   "id": "fd796468",
   "metadata": {},
   "outputs": [],
   "source": []
  }
 ],
 "metadata": {
  "kernelspec": {
   "display_name": "Python 3",
   "language": "python",
   "name": "python3"
  },
  "language_info": {
   "codemirror_mode": {
    "name": "ipython",
    "version": 3
   },
   "file_extension": ".py",
   "mimetype": "text/x-python",
   "name": "python",
   "nbconvert_exporter": "python",
   "pygments_lexer": "ipython3",
   "version": "3.8.8"
  }
 },
 "nbformat": 4,
 "nbformat_minor": 5
}
