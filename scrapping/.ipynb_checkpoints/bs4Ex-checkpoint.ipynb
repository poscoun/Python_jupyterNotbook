{
 "cells": [
  {
   "cell_type": "code",
   "execution_count": 2,
   "id": "a377a039",
   "metadata": {},
   "outputs": [
    {
     "name": "stdout",
     "output_type": "stream",
     "text": [
      "Collecting package metadata (current_repodata.json): ...working... done\n",
      "Solving environment: ...working... done\n",
      "\n",
      "# All requested packages already installed.\n",
      "\n"
     ]
    }
   ],
   "source": [
    "!conda install BeautifulSoup4"
   ]
  },
  {
   "cell_type": "code",
   "execution_count": 4,
   "id": "1d96e89b",
   "metadata": {},
   "outputs": [
    {
     "name": "stdout",
     "output_type": "stream",
     "text": [
      "Collecting package metadata (current_repodata.json): ...working... done\n",
      "Solving environment: ...working... done\n",
      "\n",
      "# All requested packages already installed.\n",
      "\n"
     ]
    }
   ],
   "source": [
    "!conda install lxml"
   ]
  },
  {
   "cell_type": "code",
   "execution_count": 5,
   "id": "37cb6cbc",
   "metadata": {},
   "outputs": [],
   "source": [
    "import bs4"
   ]
  },
  {
   "cell_type": "code",
   "execution_count": 6,
   "id": "de83d96d",
   "metadata": {},
   "outputs": [],
   "source": [
    "html = ''''''\n",
    "\n",
    "soup = bs4.BeautifulSoup(html, 'lxml')\n",
    "\n",
    "'''\n",
    "# 파이썬에서 사용하는 parser\n",
    "1) lxml               : xml 해석이 가능한 파서. 파이썬 2.x, 3.x 모두 지원\n",
    "                      : 상대적으로 다른 파서에 비해 빠름 (c 기반)\n",
    "\n",
    "2) html5lib           : 웹 브라우저 방식으로 HTML 해석\n",
    "                      : lxml과 비교하면 상대적으로 느림.\n",
    "\n",
    "3) html.parser        : html5lib와 거의 비슷\n",
    "\n",
    "'''"
   ]
  },
  {
   "cell_type": "code",
   "execution_count": 7,
   "id": "dbf860ce",
   "metadata": {},
   "outputs": [],
   "source": [
    "from bs4 import BeautifulSoup"
   ]
  },
  {
   "cell_type": "code",
   "execution_count": 9,
   "id": "c5baa12b",
   "metadata": {
    "scrolled": true
   },
   "outputs": [
    {
     "name": "stdout",
     "output_type": "stream",
     "text": [
      "<p>test</p>\n",
      "<html><body><p>test</p></body></html>\n"
     ]
    }
   ],
   "source": [
    "html = '''<p>test</p>'''\n",
    "\n",
    "print(html)\n",
    "\n",
    "soup = BeautifulSoup(html, 'lxml')\n",
    "\n",
    "# lxml은 html, body가 포함된 HTML 기본 형태로 만들어 준다.\n",
    "print(soup)"
   ]
  },
  {
   "cell_type": "code",
   "execution_count": 10,
   "id": "039073bc",
   "metadata": {},
   "outputs": [
    {
     "name": "stdout",
     "output_type": "stream",
     "text": [
      "<html><body><p>test</p></body></html>\n",
      "-------------------------------------------\n",
      "<html><body><p>test</p></body></html>\n"
     ]
    }
   ],
   "source": [
    "html1 = '''<html><p>test</p></html>'''\n",
    "\n",
    "html2 = '''<body><p>test</p></body>'''\n",
    "\n",
    "soup1 = BeautifulSoup(html1, 'lxml')\n",
    "print(soup1)\n",
    "\n",
    "print('-------------------------------------------')\n",
    "soup2 = BeautifulSoup(html2, 'lxml')\n",
    "print(soup2)"
   ]
  },
  {
   "cell_type": "code",
   "execution_count": 11,
   "id": "0b70a230",
   "metadata": {},
   "outputs": [
    {
     "name": "stdout",
     "output_type": "stream",
     "text": [
      "<p>test</p>\n",
      "<html><head></head><body><p>test</p></body></html>\n"
     ]
    }
   ],
   "source": [
    "html = '''<p>test</p>'''\n",
    "\n",
    "print(html)\n",
    "\n",
    "soup = BeautifulSoup(html, 'html5lib')\n",
    "\n",
    "# html5lib는 웹 브라우저처럼 해석하므로 html, head, body가 포함된 HTML 기본 형태로 만들어 준다.\n",
    "print(soup)"
   ]
  },
  {
   "cell_type": "code",
   "execution_count": 12,
   "id": "d0edeae5",
   "metadata": {},
   "outputs": [
    {
     "name": "stdout",
     "output_type": "stream",
     "text": [
      "<p>test</p>\n",
      "<p>test</p>\n"
     ]
    }
   ],
   "source": [
    "html = '''<p>test</p>'''\n",
    "\n",
    "print(html)\n",
    "\n",
    "soup = BeautifulSoup(html, 'html.parser')\n",
    "\n",
    "# html.parser는 버전에 따라 (특히 최신 버전일 경우) 잘 동작하지 않을 수 있음\n",
    "print(soup)"
   ]
  },
  {
   "cell_type": "code",
   "execution_count": 23,
   "id": "1fc3dd4f",
   "metadata": {},
   "outputs": [
    {
     "name": "stdout",
     "output_type": "stream",
     "text": [
      "lxml parser 수행 시간 : 0.001001\n"
     ]
    }
   ],
   "source": [
    "import time\n",
    "\n",
    "html = '''<html><head></head><body><p>test</p></body></html>'''\n",
    "\n",
    "sTime = time.time()\n",
    "BeautifulSoup(html, 'lxml')\n",
    "lxml_eTime = time.time() - sTime\n",
    "\n",
    "print('lxml parser 수행 시간 : %f'%(lxml_eTime))\n"
   ]
  },
  {
   "cell_type": "markdown",
   "id": "ce71cfc0",
   "metadata": {},
   "source": [
    "import time\n",
    "\n",
    "html = '''<html><head></head><body><p>test</p></body></html>'''\n",
    "\n",
    "sTime = time.time()\n",
    "BeautifulSoup(html, 'html5lib')\n",
    "html5_eTime = time.time() - sTime\n",
    "\n",
    "print('html5lib parser 수행 시간 : %f'%(html5_eTime))"
   ]
  },
  {
   "cell_type": "markdown",
   "id": "d64333dc",
   "metadata": {},
   "source": [
    "# BeautifulSoup 사용"
   ]
  },
  {
   "cell_type": "code",
   "execution_count": 25,
   "id": "cf65847e",
   "metadata": {},
   "outputs": [],
   "source": [
    "from bs4 import BeautifulSoup"
   ]
  },
  {
   "cell_type": "code",
   "execution_count": 26,
   "id": "4be00e59",
   "metadata": {},
   "outputs": [
    {
     "name": "stdout",
     "output_type": "stream",
     "text": [
      "<html><head></head><body><p>test</p></body></html>\n",
      "<class 'bs4.BeautifulSoup'>\n"
     ]
    }
   ],
   "source": [
    "html = '''<html><head></head><body><p>test</p></body></html>'''\n",
    "\n",
    "soup = BeautifulSoup(html, 'lxml')\n",
    "\n",
    "# BeautifulSoup 클래스를 통해 파싱된 데이터는 보통 soup이라고 표현. 그래서 관례적으로 변수도 soup이라고 사용\n",
    "print(soup)\n",
    "print(type(soup))"
   ]
  },
  {
   "cell_type": "code",
   "execution_count": 30,
   "id": "a5799988",
   "metadata": {
    "collapsed": true
   },
   "outputs": [
    {
     "name": "stdout",
     "output_type": "stream",
     "text": [
      "<html><head></head><body><p>test site</p><p>test1</p><p>test2</p><p>test3</p></body></html>\n",
      "<html>\n",
      " <head>\n",
      " </head>\n",
      " <body>\n",
      "  <p>\n",
      "   test site\n",
      "  </p>\n",
      "  <p>\n",
      "   test1\n",
      "  </p>\n",
      "  <p>\n",
      "   test2\n",
      "  </p>\n",
      "  <p>\n",
      "   test3\n",
      "  </p>\n",
      " </body>\n",
      "</html>\n"
     ]
    }
   ],
   "source": [
    "html = '''<html><head><title>test site</title></head><body><p>test1</p><p>test2</p><p>test3</p></body></html>'''\n",
    "\n",
    "soup = BeautifulSoup(html, 'lxml')\n",
    "\n",
    "print(soup)\n",
    "print(soup.prettify())     # prettify() : 들여쓰기 효과"
   ]
  },
  {
   "cell_type": "code",
   "execution_count": 33,
   "id": "b8e4771e",
   "metadata": {},
   "outputs": [
    {
     "name": "stdout",
     "output_type": "stream",
     "text": [
      "<p>test1</p>\n",
      "<class 'bs4.BeautifulSoup'>  :  <class 'bs4.element.Tag'>\n"
     ]
    }
   ],
   "source": [
    "html = '''<html><head><title>test site</title></head><body><p>test1</p><p>test2</p><p>test3</p></body></html>'''\n",
    "\n",
    "soup = BeautifulSoup(html, 'lxml')\n",
    "tag_p = soup.p\n",
    "\n",
    "print(tag_p)         # 같은 이름의 태그가 여러 개일 경우 첫번째 태그 정보만 가져오고 있음에 유의\n",
    "print(type(soup), ' : ', type(tag_p))\n",
    "\n",
    "# bs4.BeautifulSoup type : 문서 전체\n",
    "# bs4.element.Tag type : 각각의 태그"
   ]
  },
  {
   "cell_type": "code",
   "execution_count": 36,
   "id": "2e2658a9",
   "metadata": {},
   "outputs": [
    {
     "name": "stdout",
     "output_type": "stream",
     "text": [
      "test site\n",
      "test site\n",
      "title\n"
     ]
    }
   ],
   "source": [
    "# title 정보만 추출\n",
    "tag_title = soup.title\n",
    "\n",
    "print(tag_title.text)\n",
    "print(tag_title.string)\n",
    "print(tag_title.name)"
   ]
  },
  {
   "cell_type": "code",
   "execution_count": 42,
   "id": "2c1b2dca",
   "metadata": {},
   "outputs": [
    {
     "name": "stdout",
     "output_type": "stream",
     "text": [
      "{'class': ['t'], 'id': 'ti'}\n",
      "['t']\n",
      "ti\n",
      "-------------------------------\n",
      "{'class': ['t'], 'id': 'ti'}\n",
      "['t']\n",
      "ti\n",
      "None\n",
      "alternative\n"
     ]
    }
   ],
   "source": [
    "html = '''<html><head><title class=\"t\" id=\"ti\">test site</title></head><body><p>test1</p><p>test2</p><p>test3</p></body></html>'''\n",
    "\n",
    "soup = BeautifulSoup(html, 'lxml')\n",
    "tag_title = soup.title\n",
    "\n",
    "# 태그에서 속성을 추출\n",
    "print(tag_title.attrs)      # attrs : 해당 요소의 속성을 추출 - 딕셔너리 형태로 return\n",
    "print(tag_title['class'])\n",
    "print(tag_title['id'])\n",
    "\n",
    "# print(tag_title['wow'])        # 없는 요소 (없는 key)를 추출하면 에러가 발생함에 유의 -> get()로 추출하는것을 권장\n",
    "\n",
    "print('-------------------------------')\n",
    "# 태그에서 속성을 추출하는 메소드\n",
    "print(tag_title.attrs)\n",
    "print(tag_title.get('class'))\n",
    "print(tag_title.get('id'))\n",
    "print(tag_title.get('wow'))   \n",
    "print(tag_title.get('wow', 'alternative'))   "
   ]
  },
  {
   "cell_type": "code",
   "execution_count": 43,
   "id": "053c9897",
   "metadata": {},
   "outputs": [
    {
     "name": "stdout",
     "output_type": "stream",
     "text": [
      "text :  test site - <class 'str'>\n",
      "str :  test site - <class 'bs4.element.NavigableString'>\n"
     ]
    }
   ],
   "source": [
    "html = '''\n",
    "        <html>\n",
    "        <head>\n",
    "        <title class=\"t\" id=\"ti\">test site</title>\n",
    "        </head>\n",
    "        <body>\n",
    "            <p>test1</p>\n",
    "            <p>test2</p>\n",
    "            <p>test3</p>\n",
    "        </body>\n",
    "        </html>'''\n",
    "\n",
    "soup = BeautifulSoup(html, 'lxml')\n",
    "tag_title = soup.title\n",
    "\n",
    "title_text = tag_title.text\n",
    "title_str = tag_title.string\n",
    "\n",
    "print('text : ', title_text, '-' ,type(title_text))\n",
    "print('str : ', title_str, '-' ,type(title_str))"
   ]
  },
  {
   "cell_type": "code",
   "execution_count": 51,
   "id": "cc8a70f7",
   "metadata": {},
   "outputs": [
    {
     "name": "stdout",
     "output_type": "stream",
     "text": [
      "text :  test0test1  -  <class 'str'>\n",
      "string :  None  -  <class 'NoneType'>\n",
      "string :  test1  -  <class 'bs4.element.NavigableString'>\n"
     ]
    }
   ],
   "source": [
    "html = '''\n",
    "        <html>\n",
    "        <head>\n",
    "        <title class=\"t\" id=\"ti\">test site</title>\n",
    "        </head>\n",
    "        <body>\n",
    "            <p>test0<span>test1</span></p>\n",
    "            <p>test2</p>\n",
    "            <p>test3</p>\n",
    "        </body>\n",
    "        </html>'''\n",
    "\n",
    "soup = BeautifulSoup(html, 'lxml')\n",
    "tag_p = soup.p\n",
    "\n",
    "p_text = tag_p.text\n",
    "p_str = tag_p.string\n",
    "span_str = tag_p.span.string\n",
    "\n",
    "print('text : ', p_text, ' - ', type(p_text))\n",
    "print('string : ', p_str, ' - ', type(p_str))\n",
    "print('string : ', span_str, ' - ', type(span_str))\n",
    "\n",
    "'''\n",
    "# text는 하위 태그 있는 문자열도 모두 추출해 줌\n",
    "# string은 선택한 태그의 문자열만 추출해 줌. 즉, 정확히 추출하고 싶다면 가장 자식 요소를 선택해줘야 함\n",
    "'''"
   ]
  },
  {
   "cell_type": "code",
   "execution_count": null,
   "id": "9f859135",
   "metadata": {},
   "outputs": [],
   "source": []
  }
 ],
 "metadata": {
  "kernelspec": {
   "display_name": "Python 3",
   "language": "python",
   "name": "python3"
  },
  "language_info": {
   "codemirror_mode": {
    "name": "ipython",
    "version": 3
   },
   "file_extension": ".py",
   "mimetype": "text/x-python",
   "name": "python",
   "nbconvert_exporter": "python",
   "pygments_lexer": "ipython3",
   "version": "3.8.8"
  }
 },
 "nbformat": 4,
 "nbformat_minor": 5
}
