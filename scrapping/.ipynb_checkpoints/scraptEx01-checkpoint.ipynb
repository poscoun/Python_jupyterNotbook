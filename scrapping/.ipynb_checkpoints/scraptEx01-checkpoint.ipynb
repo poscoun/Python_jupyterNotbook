{
 "cells": [
  {
   "cell_type": "code",
   "execution_count": 1,
   "id": "605bdb8c",
   "metadata": {},
   "outputs": [],
   "source": [
    "import requests as rq"
   ]
  },
  {
   "cell_type": "code",
   "execution_count": 3,
   "id": "fa01e18a",
   "metadata": {},
   "outputs": [
    {
     "data": {
      "text/plain": [
       "<Response [200]>"
      ]
     },
     "execution_count": 3,
     "metadata": {},
     "output_type": "execute_result"
    }
   ],
   "source": [
    "url = 'https://www.naver.com'\n",
    "\n",
    "# rq.get(url)\n",
    "rq.post(url)"
   ]
  },
  {
   "cell_type": "code",
   "execution_count": 5,
   "id": "53867fa2",
   "metadata": {},
   "outputs": [
    {
     "name": "stdout",
     "output_type": "stream",
     "text": [
      "<Response [404]>\n",
      "404\n"
     ]
    }
   ],
   "source": [
    "url = 'https://www.naver.com/a'\n",
    "\n",
    "res = rq.get(url)\n",
    "print(res)\n",
    "print(res.status_code)"
   ]
  },
  {
   "cell_type": "code",
   "execution_count": 6,
   "id": "8d5faa83",
   "metadata": {},
   "outputs": [
    {
     "name": "stdout",
     "output_type": "stream",
     "text": [
      "<Response [200]>\n",
      "200\n",
      "{'Date': 'Tue, 20 Apr 2021 10:11:35 GMT', 'Server': 'mw1268.eqiad.wmnet', 'X-Content-Type-Options': 'nosniff', 'P3p': 'CP=\"See https://ko.wikipedia.org/wiki/Special:CentralAutoLogin/P3P for more info.\"', 'Content-Language': 'ko', 'Vary': 'Accept-Encoding,Cookie,Authorization', 'X-Request-Id': '1d9dda7c-a5e3-46ca-8e9c-ab62164a3f4b', 'Last-Modified': 'Tue, 20 Apr 2021 10:06:38 GMT', 'Content-Type': 'text/html; charset=UTF-8', 'Content-Encoding': 'gzip', 'Age': '58039', 'X-Cache': 'cp5010 miss, cp5009 hit/63', 'X-Cache-Status': 'hit-front', 'Server-Timing': 'cache;desc=\"hit-front\", host;desc=\"cp5009\"', 'Strict-Transport-Security': 'max-age=106384710; includeSubDomains; preload', 'Report-To': '{ \"group\": \"wm_nel\", \"max_age\": 86400, \"endpoints\": [{ \"url\": \"https://intake-logging.wikimedia.org/v1/events?stream=w3c.reportingapi.network_error&schema_uri=/w3c/reportingapi/network_error/1.0.0\" }] }', 'NEL': '{ \"report_to\": \"wm_nel\", \"max_age\": 86400, \"failure_fraction\": 0.05, \"success_fraction\": 0.0}', 'Permissions-Policy': 'interest-cohort=()', 'Set-Cookie': 'WMF-Last-Access=21-Apr-2021;Path=/;HttpOnly;secure;Expires=Sun, 23 May 2021 00:00:00 GMT, WMF-Last-Access-Global=21-Apr-2021;Path=/;Domain=.wikipedia.org;HttpOnly;secure;Expires=Sun, 23 May 2021 00:00:00 GMT, GeoIP=KR:41:Gwangmyeong-si:37.44:126.86:v4; Path=/; secure; Domain=.wikipedia.org', 'X-Client-IP': '211.197.18.247', 'Cache-Control': 'private, s-maxage=0, max-age=0, must-revalidate', 'Accept-Ranges': 'bytes', 'Content-Length': '39147', 'Connection': 'keep-alive'}\n"
     ]
    }
   ],
   "source": [
    "url = 'https://ko.wikipedia.org/wiki/파이썬'\n",
    "\n",
    "res = rq.get(url)\n",
    "print(res)\n",
    "print(res.status_code)\n",
    "print(res.headers)\n"
   ]
  },
  {
   "cell_type": "code",
   "execution_count": 8,
   "id": "73a08e1e",
   "metadata": {},
   "outputs": [
    {
     "name": "stdout",
     "output_type": "stream",
     "text": [
      "Tue, 20 Apr 2021 10:11:35 GMT\n",
      "mw1268.eqiad.wmnet\n",
      "nosniff\n",
      "CP=\"See https://ko.wikipedia.org/wiki/Special:CentralAutoLogin/P3P for more info.\"\n",
      "ko\n",
      "Accept-Encoding,Cookie,Authorization\n",
      "1d9dda7c-a5e3-46ca-8e9c-ab62164a3f4b\n",
      "Tue, 20 Apr 2021 10:06:38 GMT\n",
      "text/html; charset=UTF-8\n",
      "gzip\n",
      "58039\n",
      "cp5010 miss, cp5009 hit/63\n",
      "hit-front\n",
      "cache;desc=\"hit-front\", host;desc=\"cp5009\"\n",
      "max-age=106384710; includeSubDomains; preload\n",
      "{ \"group\": \"wm_nel\", \"max_age\": 86400, \"endpoints\": [{ \"url\": \"https://intake-logging.wikimedia.org/v1/events?stream=w3c.reportingapi.network_error&schema_uri=/w3c/reportingapi/network_error/1.0.0\" }] }\n",
      "{ \"report_to\": \"wm_nel\", \"max_age\": 86400, \"failure_fraction\": 0.05, \"success_fraction\": 0.0}\n",
      "interest-cohort=()\n",
      "WMF-Last-Access=21-Apr-2021;Path=/;HttpOnly;secure;Expires=Sun, 23 May 2021 00:00:00 GMT, WMF-Last-Access-Global=21-Apr-2021;Path=/;Domain=.wikipedia.org;HttpOnly;secure;Expires=Sun, 23 May 2021 00:00:00 GMT, GeoIP=KR:41:Gwangmyeong-si:37.44:126.86:v4; Path=/; secure; Domain=.wikipedia.org\n",
      "211.197.18.247\n",
      "private, s-maxage=0, max-age=0, must-revalidate\n",
      "bytes\n",
      "39147\n",
      "keep-alive\n"
     ]
    }
   ],
   "source": [
    "# 전체 header 정보\n",
    "header = res.headers\n",
    "\n",
    "for i in header:\n",
    "    print(header[i])"
   ]
  },
  {
   "cell_type": "code",
   "execution_count": 9,
   "id": "02cd074b",
   "metadata": {},
   "outputs": [
    {
     "name": "stdout",
     "output_type": "stream",
     "text": [
      "WMF-Last-Access=21-Apr-2021;Path=/;HttpOnly;secure;Expires=Sun, 23 May 2021 00:00:00 GMT, WMF-Last-Access-Global=21-Apr-2021;Path=/;Domain=.wikipedia.org;HttpOnly;secure;Expires=Sun, 23 May 2021 00:00:00 GMT, GeoIP=KR:41:Gwangmyeong-si:37.44:126.86:v4; Path=/; secure; Domain=.wikipedia.org\n"
     ]
    }
   ],
   "source": [
    "# 특정값 가져오기 - cookie\n",
    "header = res.headers\n",
    "\n",
    "print(header['Set-Cookie'])"
   ]
  },
  {
   "cell_type": "code",
   "execution_count": 12,
   "id": "7ad31b6b",
   "metadata": {},
   "outputs": [
    {
     "name": "stdout",
     "output_type": "stream",
     "text": [
      "<class 'requests.cookies.RequestsCookieJar'>\n",
      "<RequestsCookieJar[<Cookie GeoIP=KR:41:Gwangmyeong-si:37.44:126.86:v4 for .wikipedia.org/>, <Cookie WMF-Last-Access-Global=21-Apr-2021 for .wikipedia.org/>, <Cookie WMF-Last-Access=21-Apr-2021 for ko.wikipedia.org/>]>\n",
      "---------------------------------------\n",
      "[Cookie(version=0, name='GeoIP', value='KR:41:Gwangmyeong-si:37.44:126.86:v4', port=None, port_specified=False, domain='.wikipedia.org', domain_specified=True, domain_initial_dot=True, path='/', path_specified=True, secure=True, expires=None, discard=True, comment=None, comment_url=None, rest={}, rfc2109=False), Cookie(version=0, name='WMF-Last-Access-Global', value='21-Apr-2021', port=None, port_specified=False, domain='.wikipedia.org', domain_specified=True, domain_initial_dot=True, path='/', path_specified=True, secure=True, expires=1621728000, discard=False, comment=None, comment_url=None, rest={'HttpOnly': None}, rfc2109=False), Cookie(version=0, name='WMF-Last-Access', value='21-Apr-2021', port=None, port_specified=False, domain='ko.wikipedia.org', domain_specified=False, domain_initial_dot=False, path='/', path_specified=True, secure=True, expires=1621728000, discard=False, comment=None, comment_url=None, rest={'HttpOnly': None}, rfc2109=False)]\n"
     ]
    }
   ],
   "source": [
    "# cookies 속성\n",
    "cookies = res.cookies\n",
    "print(type(cookies))           # RequestsCookieJar 객체 -> list로 리턴\n",
    "print(cookies)\n",
    "print('---------------------------------------')\n",
    "print(list(cookies))           # list로 사용"
   ]
  },
  {
   "cell_type": "code",
   "execution_count": 13,
   "id": "fea75dc2",
   "metadata": {},
   "outputs": [
    {
     "name": "stdout",
     "output_type": "stream",
     "text": [
      "(Cookie(version=0, name='GeoIP', value='KR:41:Gwangmyeong-si:37.44:126.86:v4', port=None, port_specified=False, domain='.wikipedia.org', domain_specified=True, domain_initial_dot=True, path='/', path_specified=True, secure=True, expires=None, discard=True, comment=None, comment_url=None, rest={}, rfc2109=False), Cookie(version=0, name='WMF-Last-Access-Global', value='21-Apr-2021', port=None, port_specified=False, domain='.wikipedia.org', domain_specified=True, domain_initial_dot=True, path='/', path_specified=True, secure=True, expires=1621728000, discard=False, comment=None, comment_url=None, rest={'HttpOnly': None}, rfc2109=False), Cookie(version=0, name='WMF-Last-Access', value='21-Apr-2021', port=None, port_specified=False, domain='ko.wikipedia.org', domain_specified=False, domain_initial_dot=False, path='/', path_specified=True, secure=True, expires=1621728000, discard=False, comment=None, comment_url=None, rest={'HttpOnly': None}, rfc2109=False))\n"
     ]
    }
   ],
   "source": [
    "print(tuple(cookies))          # tuple로도 사용"
   ]
  },
  {
   "cell_type": "code",
   "execution_count": 14,
   "id": "cfeabe18",
   "metadata": {},
   "outputs": [
    {
     "name": "stdout",
     "output_type": "stream",
     "text": [
      "{'GeoIP': 'KR:41:Gwangmyeong-si:37.44:126.86:v4', 'WMF-Last-Access-Global': '21-Apr-2021', 'WMF-Last-Access': '21-Apr-2021'}\n"
     ]
    }
   ],
   "source": [
    "print(dict(cookies))          # dictionary로도 사용"
   ]
  },
  {
   "cell_type": "code",
   "execution_count": null,
   "id": "5cf66e5b",
   "metadata": {},
   "outputs": [],
   "source": []
  },
  {
   "cell_type": "code",
   "execution_count": null,
   "id": "08b0f751",
   "metadata": {},
   "outputs": [],
   "source": []
  },
  {
   "cell_type": "code",
   "execution_count": null,
   "id": "30899ef8",
   "metadata": {},
   "outputs": [],
   "source": []
  },
  {
   "cell_type": "code",
   "execution_count": null,
   "id": "fb4200b9",
   "metadata": {},
   "outputs": [],
   "source": []
  }
 ],
 "metadata": {
  "kernelspec": {
   "display_name": "Python 3",
   "language": "python",
   "name": "python3"
  },
  "language_info": {
   "codemirror_mode": {
    "name": "ipython",
    "version": 3
   },
   "file_extension": ".py",
   "mimetype": "text/x-python",
   "name": "python",
   "nbconvert_exporter": "python",
   "pygments_lexer": "ipython3",
   "version": "3.8.8"
  }
 },
 "nbformat": 4,
 "nbformat_minor": 5
}
